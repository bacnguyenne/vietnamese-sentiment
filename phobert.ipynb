{
 "cells": [
  {
   "cell_type": "code",
   "execution_count": 1,
   "id": "e10351f3",
   "metadata": {
    "_cell_guid": "b1076dfc-b9ad-4769-8c92-a6c4dae69d19",
    "_uuid": "8f2839f25d086af736a60e9eeb907d3b93b6e0e5",
    "execution": {
     "iopub.execute_input": "2024-01-25T08:31:22.543422Z",
     "iopub.status.busy": "2024-01-25T08:31:22.543139Z",
     "iopub.status.idle": "2024-01-25T08:31:23.239936Z",
     "shell.execute_reply": "2024-01-25T08:31:23.239197Z"
    },
    "papermill": {
     "duration": 0.706661,
     "end_time": "2024-01-25T08:31:23.242255",
     "exception": false,
     "start_time": "2024-01-25T08:31:22.535594",
     "status": "completed"
    },
    "tags": []
   },
   "outputs": [],
   "source": [
    "import pandas as pd\n",
    "import numpy as np"
   ]
  },
  {
   "cell_type": "code",
   "execution_count": 2,
   "id": "125497cd",
   "metadata": {
    "execution": {
     "iopub.execute_input": "2024-01-25T08:31:23.256454Z",
     "iopub.status.busy": "2024-01-25T08:31:23.256040Z",
     "iopub.status.idle": "2024-01-25T08:31:23.696718Z",
     "shell.execute_reply": "2024-01-25T08:31:23.695745Z"
    },
    "papermill": {
     "duration": 0.450093,
     "end_time": "2024-01-25T08:31:23.698968",
     "exception": false,
     "start_time": "2024-01-25T08:31:23.248875",
     "status": "completed"
    },
    "tags": []
   },
   "outputs": [
    {
     "data": {
      "text/html": [
       "<div>\n",
       "<style scoped>\n",
       "    .dataframe tbody tr th:only-of-type {\n",
       "        vertical-align: middle;\n",
       "    }\n",
       "\n",
       "    .dataframe tbody tr th {\n",
       "        vertical-align: top;\n",
       "    }\n",
       "\n",
       "    .dataframe thead th {\n",
       "        text-align: right;\n",
       "    }\n",
       "</style>\n",
       "<table border=\"1\" class=\"dataframe\">\n",
       "  <thead>\n",
       "    <tr style=\"text-align: right;\">\n",
       "      <th></th>\n",
       "      <th>text</th>\n",
       "      <th>label</th>\n",
       "    </tr>\n",
       "  </thead>\n",
       "  <tbody>\n",
       "    <tr>\n",
       "      <th>0</th>\n",
       "      <td>quán đồ_ăn ngon phục_vụ tốt lo sửa_soạn để_ý k...</td>\n",
       "      <td>0</td>\n",
       "    </tr>\n",
       "    <tr>\n",
       "      <th>1</th>\n",
       "      <td>hôm_nay đi tại quán món ngon vừa_miệng không_g...</td>\n",
       "      <td>0</td>\n",
       "    </tr>\n",
       "    <tr>\n",
       "      <th>2</th>\n",
       "      <td>́ n cư ̣ chị ngon tuâ ̀ n na ̀ o mi ̀ nh cu ̃ ...</td>\n",
       "      <td>0</td>\n",
       "    </tr>\n",
       "    <tr>\n",
       "      <th>3</th>\n",
       "      <td>chán đồ uống nhạt không_gian chất_lượng thì kh...</td>\n",
       "      <td>0</td>\n",
       "    </tr>\n",
       "    <tr>\n",
       "      <th>4</th>\n",
       "      <td>mì ok       nguội view rộng kêu món đợi hơi  b...</td>\n",
       "      <td>0</td>\n",
       "    </tr>\n",
       "  </tbody>\n",
       "</table>\n",
       "</div>"
      ],
      "text/plain": [
       "                                                text  label\n",
       "0  quán đồ_ăn ngon phục_vụ tốt lo sửa_soạn để_ý k...      0\n",
       "1  hôm_nay đi tại quán món ngon vừa_miệng không_g...      0\n",
       "2  ́ n cư ̣ chị ngon tuâ ̀ n na ̀ o mi ̀ nh cu ̃ ...      0\n",
       "3  chán đồ uống nhạt không_gian chất_lượng thì kh...      0\n",
       "4  mì ok       nguội view rộng kêu món đợi hơi  b...      0"
      ]
     },
     "execution_count": 2,
     "metadata": {},
     "output_type": "execute_result"
    }
   ],
   "source": [
    "df = pd.read_csv('/kaggle/input/sentments/train_cleaning.csv')\n",
    "df.head()"
   ]
  },
  {
   "cell_type": "code",
   "execution_count": 3,
   "id": "40fcc556",
   "metadata": {
    "execution": {
     "iopub.execute_input": "2024-01-25T08:31:23.713734Z",
     "iopub.status.busy": "2024-01-25T08:31:23.713051Z",
     "iopub.status.idle": "2024-01-25T08:31:24.628500Z",
     "shell.execute_reply": "2024-01-25T08:31:24.627534Z"
    },
    "papermill": {
     "duration": 0.925175,
     "end_time": "2024-01-25T08:31:24.630785",
     "exception": false,
     "start_time": "2024-01-25T08:31:23.705610",
     "status": "completed"
    },
    "tags": []
   },
   "outputs": [
    {
     "name": "stderr",
     "output_type": "stream",
     "text": [
      "/opt/conda/lib/python3.10/site-packages/scipy/__init__.py:146: UserWarning: A NumPy version >=1.16.5 and <1.23.0 is required for this version of SciPy (detected version 1.24.3\n",
      "  warnings.warn(f\"A NumPy version >={np_minversion} and <{np_maxversion}\"\n"
     ]
    }
   ],
   "source": [
    "from sklearn.model_selection import train_test_split"
   ]
  },
  {
   "cell_type": "code",
   "execution_count": 4,
   "id": "e9d45154",
   "metadata": {
    "execution": {
     "iopub.execute_input": "2024-01-25T08:31:24.645240Z",
     "iopub.status.busy": "2024-01-25T08:31:24.644934Z",
     "iopub.status.idle": "2024-01-25T08:31:24.658224Z",
     "shell.execute_reply": "2024-01-25T08:31:24.657351Z"
    },
    "papermill": {
     "duration": 0.022627,
     "end_time": "2024-01-25T08:31:24.660233",
     "exception": false,
     "start_time": "2024-01-25T08:31:24.637606",
     "status": "completed"
    },
    "tags": []
   },
   "outputs": [],
   "source": [
    "X = df['text']\n",
    "y = df['label']\n",
    "X_train, X_test , y_train, y_test = train_test_split(X, y, test_size = 0.3, random_state = 42)"
   ]
  },
  {
   "cell_type": "code",
   "execution_count": 5,
   "id": "d3cab9fc",
   "metadata": {
    "execution": {
     "iopub.execute_input": "2024-01-25T08:31:24.674371Z",
     "iopub.status.busy": "2024-01-25T08:31:24.674058Z",
     "iopub.status.idle": "2024-01-25T08:31:24.678825Z",
     "shell.execute_reply": "2024-01-25T08:31:24.677968Z"
    },
    "papermill": {
     "duration": 0.014152,
     "end_time": "2024-01-25T08:31:24.680854",
     "exception": false,
     "start_time": "2024-01-25T08:31:24.666702",
     "status": "completed"
    },
    "tags": []
   },
   "outputs": [
    {
     "name": "stdout",
     "output_type": "stream",
     "text": [
      "(21000,)\n",
      "(9000,)\n",
      "(21000,)\n",
      "(9000,)\n"
     ]
    }
   ],
   "source": [
    "print(X_train.shape)\n",
    "print(X_test.shape)\n",
    "print(y_train.shape)\n",
    "print(y_test.shape)"
   ]
  },
  {
   "cell_type": "code",
   "execution_count": 6,
   "id": "eede8cfb",
   "metadata": {
    "execution": {
     "iopub.execute_input": "2024-01-25T08:31:24.695213Z",
     "iopub.status.busy": "2024-01-25T08:31:24.694643Z",
     "iopub.status.idle": "2024-01-25T08:31:24.699592Z",
     "shell.execute_reply": "2024-01-25T08:31:24.698841Z"
    },
    "papermill": {
     "duration": 0.014125,
     "end_time": "2024-01-25T08:31:24.701412",
     "exception": false,
     "start_time": "2024-01-25T08:31:24.687287",
     "status": "completed"
    },
    "tags": []
   },
   "outputs": [],
   "source": [
    "# import numpy as np\n",
    "# from tensorflow.keras.layers import Embedding, Flatten, Input\n",
    "# from tensorflow.keras.models import Model\n",
    "# from tensorflow.keras.preprocessing.sequence import pad_sequences\n",
    "# from tensorflow.keras.optimizers import Adam\n",
    "# import tensorflow as tf\n",
    "\n",
    "# vocab_size = 5000\n",
    "# sequence_length = 100\n",
    "\n",
    "# # Assuming X_train is a list of text samples\n",
    "# vectorize = tf.keras.layers.TextVectorization(\n",
    "#     max_tokens=vocab_size,\n",
    "#     output_mode='int',\n",
    "#     output_sequence_length=sequence_length\n",
    "# )\n",
    "\n",
    "# # Adapt the vectorization layer on your training data\n",
    "# vectorize.adapt(X_train.tolist())\n",
    "\n",
    "# # Convert the text data to sequences\n",
    "# X_train_keras = np.array(vectorize(X_train.tolist()))\n",
    "# X_test_keras = np.array(vectorize(X_test.tolist()))\n",
    "\n",
    "# # Pad the sequences to a fixed length (maxlen)\n",
    "# maxlen = 128  # replace with the actual value\n",
    "# X_train_keras_padded = pad_sequences(X_train_keras, maxlen=maxlen, padding='post')\n",
    "# X_test_keras_padded = pad_sequences(X_test_keras, maxlen=maxlen, padding='post')\n",
    "# # Define the word embedding model\n",
    "# word_input = Input(shape=(maxlen,), dtype='float64')\n",
    "# word_embedding = Embedding(input_dim=vocab_size, output_dim=8, input_length=maxlen)(word_input)\n",
    "# word_vec = Flatten()(word_embedding)\n",
    "\n",
    "# # Create the embedding model\n",
    "# embed_model = Model(inputs=word_input, outputs=word_vec)\n",
    "# embed_model.compile(optimizer=Adam(lr=1e-3), loss='binary_crossentropy', metrics=['acc'])\n",
    "\n",
    "# # Predict with the embedding model\n",
    "# embeddings = embed_model.predict(X_train_keras_padded)\n",
    "\n",
    "# np.savetxt('KerasWordEmbedding.txt', embeddings)"
   ]
  },
  {
   "cell_type": "code",
   "execution_count": 7,
   "id": "83a19fc2",
   "metadata": {
    "execution": {
     "iopub.execute_input": "2024-01-25T08:31:24.715624Z",
     "iopub.status.busy": "2024-01-25T08:31:24.715207Z",
     "iopub.status.idle": "2024-01-25T08:31:24.719702Z",
     "shell.execute_reply": "2024-01-25T08:31:24.719048Z"
    },
    "papermill": {
     "duration": 0.013665,
     "end_time": "2024-01-25T08:31:24.721526",
     "exception": false,
     "start_time": "2024-01-25T08:31:24.707861",
     "status": "completed"
    },
    "tags": []
   },
   "outputs": [],
   "source": [
    "# import fasttext"
   ]
  },
  {
   "cell_type": "code",
   "execution_count": 8,
   "id": "640624b6",
   "metadata": {
    "execution": {
     "iopub.execute_input": "2024-01-25T08:31:24.735755Z",
     "iopub.status.busy": "2024-01-25T08:31:24.735521Z",
     "iopub.status.idle": "2024-01-25T08:31:24.738936Z",
     "shell.execute_reply": "2024-01-25T08:31:24.738185Z"
    },
    "papermill": {
     "duration": 0.01266,
     "end_time": "2024-01-25T08:31:24.740745",
     "exception": false,
     "start_time": "2024-01-25T08:31:24.728085",
     "status": "completed"
    },
    "tags": []
   },
   "outputs": [],
   "source": [
    "# ft = fasttext.load_model('/kaggle/input/fasttext-vi/cc.vi.300.bin')"
   ]
  },
  {
   "cell_type": "code",
   "execution_count": 9,
   "id": "386d048b",
   "metadata": {
    "execution": {
     "iopub.execute_input": "2024-01-25T08:31:24.754407Z",
     "iopub.status.busy": "2024-01-25T08:31:24.754139Z",
     "iopub.status.idle": "2024-01-25T08:31:24.757609Z",
     "shell.execute_reply": "2024-01-25T08:31:24.756904Z"
    },
    "papermill": {
     "duration": 0.012359,
     "end_time": "2024-01-25T08:31:24.759460",
     "exception": false,
     "start_time": "2024-01-25T08:31:24.747101",
     "status": "completed"
    },
    "tags": []
   },
   "outputs": [],
   "source": [
    "# X_train_fasttext = [ft.get_sentence_vector(doc) for doc in X_train]\n",
    "# np.savetxt('FastTextWordEmbedding.txt', X_train_fasttext)"
   ]
  },
  {
   "cell_type": "code",
   "execution_count": 10,
   "id": "ca8af6a7",
   "metadata": {
    "execution": {
     "iopub.execute_input": "2024-01-25T08:31:24.773418Z",
     "iopub.status.busy": "2024-01-25T08:31:24.772925Z",
     "iopub.status.idle": "2024-01-25T09:07:07.287257Z",
     "shell.execute_reply": "2024-01-25T09:07:07.286400Z"
    },
    "papermill": {
     "duration": 2142.523848,
     "end_time": "2024-01-25T09:07:07.289716",
     "exception": false,
     "start_time": "2024-01-25T08:31:24.765868",
     "status": "completed"
    },
    "tags": []
   },
   "outputs": [
    {
     "data": {
      "application/vnd.jupyter.widget-view+json": {
       "model_id": "da6a7f1a8492454ead343fdf881effe5",
       "version_major": 2,
       "version_minor": 0
      },
      "text/plain": [
       "config.json:   0%|          | 0.00/557 [00:00<?, ?B/s]"
      ]
     },
     "metadata": {},
     "output_type": "display_data"
    },
    {
     "data": {
      "application/vnd.jupyter.widget-view+json": {
       "model_id": "7e7aaa7e859e47e6aeac46b2139df250",
       "version_major": 2,
       "version_minor": 0
      },
      "text/plain": [
       "vocab.txt:   0%|          | 0.00/895k [00:00<?, ?B/s]"
      ]
     },
     "metadata": {},
     "output_type": "display_data"
    },
    {
     "data": {
      "application/vnd.jupyter.widget-view+json": {
       "model_id": "ee253cc136c4472cbd7fd8f4cedb9de0",
       "version_major": 2,
       "version_minor": 0
      },
      "text/plain": [
       "bpe.codes:   0%|          | 0.00/1.14M [00:00<?, ?B/s]"
      ]
     },
     "metadata": {},
     "output_type": "display_data"
    },
    {
     "data": {
      "application/vnd.jupyter.widget-view+json": {
       "model_id": "83e7636d5a164e0fae839765747e1a68",
       "version_major": 2,
       "version_minor": 0
      },
      "text/plain": [
       "tokenizer.json:   0%|          | 0.00/3.13M [00:00<?, ?B/s]"
      ]
     },
     "metadata": {},
     "output_type": "display_data"
    },
    {
     "data": {
      "application/vnd.jupyter.widget-view+json": {
       "model_id": "ca69d10e4d31421486908082ef649632",
       "version_major": 2,
       "version_minor": 0
      },
      "text/plain": [
       "pytorch_model.bin:   0%|          | 0.00/543M [00:00<?, ?B/s]"
      ]
     },
     "metadata": {},
     "output_type": "display_data"
    }
   ],
   "source": [
    "from transformers import AutoTokenizer, AutoModel\n",
    "\n",
    "tokenizer = AutoTokenizer.from_pretrained(\"vinai/phobert-base\")\n",
    "model = AutoModel.from_pretrained(\"vinai/phobert-base\")\n",
    "\n",
    "max_sequence_length = 256\n",
    "\n",
    "X_train_phobert = []\n",
    "for doc in X_train:\n",
    "    inputs = tokenizer(doc, return_tensors=\"pt\", truncation=True, padding=True, max_length=max_sequence_length)\n",
    "\n",
    "    outputs = model(**inputs)\n",
    "\n",
    "    embeddings = outputs.last_hidden_state.mean(dim=1).squeeze().detach().numpy()\n",
    "\n",
    "    X_train_phobert.append(embeddings)\n",
    "\n",
    "X_train_phobert = np.array(X_train_phobert)\n",
    "\n"
   ]
  },
  {
   "cell_type": "code",
   "execution_count": 11,
   "id": "f284d2bc",
   "metadata": {
    "execution": {
     "iopub.execute_input": "2024-01-25T09:07:07.309539Z",
     "iopub.status.busy": "2024-01-25T09:07:07.309073Z",
     "iopub.status.idle": "2024-01-25T09:07:22.209475Z",
     "shell.execute_reply": "2024-01-25T09:07:22.208440Z"
    },
    "papermill": {
     "duration": 14.914242,
     "end_time": "2024-01-25T09:07:22.211953",
     "exception": false,
     "start_time": "2024-01-25T09:07:07.297711",
     "status": "completed"
    },
    "tags": []
   },
   "outputs": [],
   "source": [
    "np.savetxt('PhoBertEmbedding.txt', X_train_phobert)"
   ]
  },
  {
   "cell_type": "code",
   "execution_count": 12,
   "id": "4a2b03f6",
   "metadata": {
    "execution": {
     "iopub.execute_input": "2024-01-25T09:07:22.228489Z",
     "iopub.status.busy": "2024-01-25T09:07:22.228206Z",
     "iopub.status.idle": "2024-01-25T09:07:22.232016Z",
     "shell.execute_reply": "2024-01-25T09:07:22.231210Z"
    },
    "papermill": {
     "duration": 0.014232,
     "end_time": "2024-01-25T09:07:22.234041",
     "exception": false,
     "start_time": "2024-01-25T09:07:22.219809",
     "status": "completed"
    },
    "tags": []
   },
   "outputs": [],
   "source": [
    "# X_train_select = X_train_fasttext\n",
    "# X_test_fasttext = [ft.get_sentence_vector(doc) for doc in X_test]"
   ]
  },
  {
   "cell_type": "code",
   "execution_count": 13,
   "id": "7a9a1d9b",
   "metadata": {
    "execution": {
     "iopub.execute_input": "2024-01-25T09:07:22.249869Z",
     "iopub.status.busy": "2024-01-25T09:07:22.249629Z",
     "iopub.status.idle": "2024-01-25T09:07:22.333497Z",
     "shell.execute_reply": "2024-01-25T09:07:22.332811Z"
    },
    "papermill": {
     "duration": 0.093894,
     "end_time": "2024-01-25T09:07:22.335417",
     "exception": false,
     "start_time": "2024-01-25T09:07:22.241523",
     "status": "completed"
    },
    "tags": []
   },
   "outputs": [],
   "source": [
    "from sklearn.svm import SVC\n",
    "from sklearn.metrics import accuracy_score, confusion_matrix, f1_score"
   ]
  },
  {
   "cell_type": "code",
   "execution_count": 14,
   "id": "d8d2d34a",
   "metadata": {
    "execution": {
     "iopub.execute_input": "2024-01-25T09:07:22.351749Z",
     "iopub.status.busy": "2024-01-25T09:07:22.351500Z",
     "iopub.status.idle": "2024-01-25T09:07:22.355256Z",
     "shell.execute_reply": "2024-01-25T09:07:22.354484Z"
    },
    "papermill": {
     "duration": 0.013953,
     "end_time": "2024-01-25T09:07:22.356997",
     "exception": false,
     "start_time": "2024-01-25T09:07:22.343044",
     "status": "completed"
    },
    "tags": []
   },
   "outputs": [],
   "source": [
    "# X_train_select = [i.tolist() for i in X_train_select]"
   ]
  },
  {
   "cell_type": "code",
   "execution_count": 15,
   "id": "91a137ae",
   "metadata": {
    "execution": {
     "iopub.execute_input": "2024-01-25T09:07:22.372809Z",
     "iopub.status.busy": "2024-01-25T09:07:22.372542Z",
     "iopub.status.idle": "2024-01-25T09:07:22.376264Z",
     "shell.execute_reply": "2024-01-25T09:07:22.375365Z"
    },
    "papermill": {
     "duration": 0.013764,
     "end_time": "2024-01-25T09:07:22.378189",
     "exception": false,
     "start_time": "2024-01-25T09:07:22.364425",
     "status": "completed"
    },
    "tags": []
   },
   "outputs": [],
   "source": [
    "# svm_model = SVC()\n",
    "# svm_model.fit(X_train_select, y_train)"
   ]
  },
  {
   "cell_type": "code",
   "execution_count": 16,
   "id": "49c99619",
   "metadata": {
    "execution": {
     "iopub.execute_input": "2024-01-25T09:07:22.394051Z",
     "iopub.status.busy": "2024-01-25T09:07:22.393787Z",
     "iopub.status.idle": "2024-01-25T09:07:22.397451Z",
     "shell.execute_reply": "2024-01-25T09:07:22.396554Z"
    },
    "papermill": {
     "duration": 0.013889,
     "end_time": "2024-01-25T09:07:22.399410",
     "exception": false,
     "start_time": "2024-01-25T09:07:22.385521",
     "status": "completed"
    },
    "tags": []
   },
   "outputs": [],
   "source": [
    "# y_pred = svm_model.predict(X_test_fasttext)\n",
    "\n",
    "# accuracy = accuracy_score(y_test, y_pred)\n",
    "# conf_matrix = confusion_matrix(y_test, y_pred)\n",
    "# f1 = f1_score(y_test, y_pred)"
   ]
  },
  {
   "cell_type": "code",
   "execution_count": 17,
   "id": "4a9399d1",
   "metadata": {
    "execution": {
     "iopub.execute_input": "2024-01-25T09:07:22.415389Z",
     "iopub.status.busy": "2024-01-25T09:07:22.415134Z",
     "iopub.status.idle": "2024-01-25T09:07:22.418758Z",
     "shell.execute_reply": "2024-01-25T09:07:22.418004Z"
    },
    "papermill": {
     "duration": 0.013473,
     "end_time": "2024-01-25T09:07:22.420606",
     "exception": false,
     "start_time": "2024-01-25T09:07:22.407133",
     "status": "completed"
    },
    "tags": []
   },
   "outputs": [],
   "source": [
    "# evaluation_results = f\"Accuracy: {accuracy}\\nConfusion Matrix:\\n{conf_matrix}\\nF1 Score: {f1}\\n\"\n",
    "# with open(\"evaluation_results.txt\", \"w\") as eval_file:\n",
    "#     eval_file.write(evaluation_results)"
   ]
  },
  {
   "cell_type": "code",
   "execution_count": 18,
   "id": "6bc05a9c",
   "metadata": {
    "execution": {
     "iopub.execute_input": "2024-01-25T09:07:22.436435Z",
     "iopub.status.busy": "2024-01-25T09:07:22.436172Z",
     "iopub.status.idle": "2024-01-25T09:07:22.439804Z",
     "shell.execute_reply": "2024-01-25T09:07:22.439019Z"
    },
    "papermill": {
     "duration": 0.013798,
     "end_time": "2024-01-25T09:07:22.441668",
     "exception": false,
     "start_time": "2024-01-25T09:07:22.427870",
     "status": "completed"
    },
    "tags": []
   },
   "outputs": [],
   "source": [
    "# import joblib\n",
    "# joblib.dump(svm_model, \"svm_model.joblib\")"
   ]
  },
  {
   "cell_type": "code",
   "execution_count": 19,
   "id": "f94e851d",
   "metadata": {
    "execution": {
     "iopub.execute_input": "2024-01-25T09:07:22.457398Z",
     "iopub.status.busy": "2024-01-25T09:07:22.457117Z",
     "iopub.status.idle": "2024-01-25T09:07:22.460784Z",
     "shell.execute_reply": "2024-01-25T09:07:22.459986Z"
    },
    "papermill": {
     "duration": 0.013829,
     "end_time": "2024-01-25T09:07:22.462734",
     "exception": false,
     "start_time": "2024-01-25T09:07:22.448905",
     "status": "completed"
    },
    "tags": []
   },
   "outputs": [],
   "source": [
    "# loaded_model = joblib.load('/kaggle/working/svm_model.joblib')\n",
    "# user_input_embedding = 'dịch vụ này rất tốt'\n",
    "# prediction = loaded_model.predict(ft.get_sentence_vector(user_input_embedding).reshape(1, -1))\n",
    "\n",
    "# print(f\"Dự đoán ý kiến: {prediction[0]}\")"
   ]
  },
  {
   "cell_type": "code",
   "execution_count": 20,
   "id": "bdaab54f",
   "metadata": {
    "execution": {
     "iopub.execute_input": "2024-01-25T09:07:22.478380Z",
     "iopub.status.busy": "2024-01-25T09:07:22.478092Z",
     "iopub.status.idle": "2024-01-25T09:25:05.337891Z",
     "shell.execute_reply": "2024-01-25T09:25:05.336915Z"
    },
    "papermill": {
     "duration": 1062.877744,
     "end_time": "2024-01-25T09:25:05.347704",
     "exception": false,
     "start_time": "2024-01-25T09:07:22.469960",
     "status": "completed"
    },
    "tags": []
   },
   "outputs": [
    {
     "name": "stdout",
     "output_type": "stream",
     "text": [
      "0.8631111111111112\n",
      "[[3926  632]\n",
      " [ 600 3842]]\n",
      "0.8618214445939882\n"
     ]
    }
   ],
   "source": [
    "X_test_phobert = []\n",
    "for doc in X_test:\n",
    "    inputs = tokenizer(doc, return_tensors=\"pt\", truncation=True, padding=True, max_length=max_sequence_length)\n",
    "\n",
    "    outputs = model(**inputs)\n",
    "\n",
    "    embeddings = outputs.last_hidden_state.mean(dim=1).squeeze().detach().numpy()\n",
    "\n",
    "    X_test_phobert.append(embeddings)\n",
    "\n",
    "X_test_phobert = np.array(X_test_phobert)\n",
    "\n",
    "X_train_select = X_train_phobert\n",
    "X_train_select = [i.tolist() for i in X_train_select]\n",
    "svm_model = SVC()\n",
    "svm_model.fit(X_train_select, y_train)\n",
    "\n",
    "y_pred = svm_model.predict(X_test_phobert)\n",
    "\n",
    "accuracy = accuracy_score(y_test, y_pred)\n",
    "conf_matrix = confusion_matrix(y_test, y_pred)\n",
    "f1 = f1_score(y_test, y_pred)\n",
    "\n",
    "print(accuracy)\n",
    "print(conf_matrix)\n",
    "print(f1)"
   ]
  },
  {
   "cell_type": "code",
   "execution_count": 21,
   "id": "0314ae02",
   "metadata": {
    "execution": {
     "iopub.execute_input": "2024-01-25T09:25:05.364369Z",
     "iopub.status.busy": "2024-01-25T09:25:05.363864Z",
     "iopub.status.idle": "2024-01-25T09:25:05.368033Z",
     "shell.execute_reply": "2024-01-25T09:25:05.367197Z"
    },
    "papermill": {
     "duration": 0.01436,
     "end_time": "2024-01-25T09:25:05.369848",
     "exception": false,
     "start_time": "2024-01-25T09:25:05.355488",
     "status": "completed"
    },
    "tags": []
   },
   "outputs": [],
   "source": [
    "# X_train_select = embeddings\n",
    "# X_train_select = [i.tolist() for i in X_train_select]\n",
    "# svm_model = SVC()\n",
    "# svm_model.fit(X_train_select, y_train)\n",
    "# X_test = embed_model.predict(X_test_keras_padded)\n",
    "# y_pred = svm_model.predict(X_test)\n",
    "\n",
    "# accuracy = accuracy_score(y_test, y_pred)\n",
    "# conf_matrix = confusion_matrix(y_test, y_pred)\n",
    "# f1 = f1_score(y_test, y_pred)\n",
    "\n",
    "# print(accuracy)\n",
    "# print(conf_matrix)\n",
    "# print(f1)"
   ]
  },
  {
   "cell_type": "code",
   "execution_count": null,
   "id": "bc9dcd8a",
   "metadata": {
    "papermill": {
     "duration": 0.00724,
     "end_time": "2024-01-25T09:25:05.385285",
     "exception": false,
     "start_time": "2024-01-25T09:25:05.378045",
     "status": "completed"
    },
    "tags": []
   },
   "outputs": [],
   "source": []
  }
 ],
 "metadata": {
  "kaggle": {
   "accelerator": "gpu",
   "dataSources": [
    {
     "datasetId": 798371,
     "sourceId": 1373314,
     "sourceType": "datasetVersion"
    },
    {
     "datasetId": 3996665,
     "sourceId": 6957899,
     "sourceType": "datasetVersion"
    },
    {
     "datasetId": 4284103,
     "sourceId": 7373232,
     "sourceType": "datasetVersion"
    }
   ],
   "dockerImageVersionId": 30635,
   "isGpuEnabled": true,
   "isInternetEnabled": true,
   "language": "python",
   "sourceType": "notebook"
  },
  "kernelspec": {
   "display_name": "Python 3",
   "language": "python",
   "name": "python3"
  },
  "language_info": {
   "codemirror_mode": {
    "name": "ipython",
    "version": 3
   },
   "file_extension": ".py",
   "mimetype": "text/x-python",
   "name": "python",
   "nbconvert_exporter": "python",
   "pygments_lexer": "ipython3",
   "version": "3.10.12"
  },
  "papermill": {
   "default_parameters": {},
   "duration": 3228.219624,
   "end_time": "2024-01-25T09:25:07.424182",
   "environment_variables": {},
   "exception": null,
   "input_path": "__notebook__.ipynb",
   "output_path": "__notebook__.ipynb",
   "parameters": {},
   "start_time": "2024-01-25T08:31:19.204558",
   "version": "2.4.0"
  },
  "widgets": {
   "application/vnd.jupyter.widget-state+json": {
    "state": {
     "09a68304a88e4f5aa536031d4546e36a": {
      "model_module": "@jupyter-widgets/controls",
      "model_module_version": "1.5.0",
      "model_name": "DescriptionStyleModel",
      "state": {
       "_model_module": "@jupyter-widgets/controls",
       "_model_module_version": "1.5.0",
       "_model_name": "DescriptionStyleModel",
       "_view_count": null,
       "_view_module": "@jupyter-widgets/base",
       "_view_module_version": "1.2.0",
       "_view_name": "StyleView",
       "description_width": ""
      }
     },
     "0c70b9d35e284043b4c5e63369ef32d5": {
      "model_module": "@jupyter-widgets/controls",
      "model_module_version": "1.5.0",
      "model_name": "DescriptionStyleModel",
      "state": {
       "_model_module": "@jupyter-widgets/controls",
       "_model_module_version": "1.5.0",
       "_model_name": "DescriptionStyleModel",
       "_view_count": null,
       "_view_module": "@jupyter-widgets/base",
       "_view_module_version": "1.2.0",
       "_view_name": "StyleView",
       "description_width": ""
      }
     },
     "0ca90206150b44f1862ce01be02692a3": {
      "model_module": "@jupyter-widgets/controls",
      "model_module_version": "1.5.0",
      "model_name": "HTMLModel",
      "state": {
       "_dom_classes": [],
       "_model_module": "@jupyter-widgets/controls",
       "_model_module_version": "1.5.0",
       "_model_name": "HTMLModel",
       "_view_count": null,
       "_view_module": "@jupyter-widgets/controls",
       "_view_module_version": "1.5.0",
       "_view_name": "HTMLView",
       "description": "",
       "description_tooltip": null,
       "layout": "IPY_MODEL_97ee76fd94fb471db4a00de7d7e10c52",
       "placeholder": "​",
       "style": "IPY_MODEL_d4c91bab4d9444dba035073f880bea6a",
       "value": " 895k/895k [00:00&lt;00:00, 2.76MB/s]"
      }
     },
     "0cfd0037b9f3496785589ceaa776c683": {
      "model_module": "@jupyter-widgets/controls",
      "model_module_version": "1.5.0",
      "model_name": "HTMLModel",
      "state": {
       "_dom_classes": [],
       "_model_module": "@jupyter-widgets/controls",
       "_model_module_version": "1.5.0",
       "_model_name": "HTMLModel",
       "_view_count": null,
       "_view_module": "@jupyter-widgets/controls",
       "_view_module_version": "1.5.0",
       "_view_name": "HTMLView",
       "description": "",
       "description_tooltip": null,
       "layout": "IPY_MODEL_282e3cb6a3b7424eaf774ab36a6c060c",
       "placeholder": "​",
       "style": "IPY_MODEL_b918a268b9424b2c9ee8b36a29f644c3",
       "value": " 557/557 [00:00&lt;00:00, 48.7kB/s]"
      }
     },
     "13ff9410fa92414e8a894c8880301f8a": {
      "model_module": "@jupyter-widgets/controls",
      "model_module_version": "1.5.0",
      "model_name": "FloatProgressModel",
      "state": {
       "_dom_classes": [],
       "_model_module": "@jupyter-widgets/controls",
       "_model_module_version": "1.5.0",
       "_model_name": "FloatProgressModel",
       "_view_count": null,
       "_view_module": "@jupyter-widgets/controls",
       "_view_module_version": "1.5.0",
       "_view_name": "ProgressView",
       "bar_style": "success",
       "description": "",
       "description_tooltip": null,
       "layout": "IPY_MODEL_2d06728804404d4e8fb5a2f5dd661269",
       "max": 557,
       "min": 0,
       "orientation": "horizontal",
       "style": "IPY_MODEL_eee4433a771448328954e86e55e80731",
       "value": 557
      }
     },
     "19fa870d20b44fc886c87a8856adf5aa": {
      "model_module": "@jupyter-widgets/base",
      "model_module_version": "1.2.0",
      "model_name": "LayoutModel",
      "state": {
       "_model_module": "@jupyter-widgets/base",
       "_model_module_version": "1.2.0",
       "_model_name": "LayoutModel",
       "_view_count": null,
       "_view_module": "@jupyter-widgets/base",
       "_view_module_version": "1.2.0",
       "_view_name": "LayoutView",
       "align_content": null,
       "align_items": null,
       "align_self": null,
       "border": null,
       "bottom": null,
       "display": null,
       "flex": null,
       "flex_flow": null,
       "grid_area": null,
       "grid_auto_columns": null,
       "grid_auto_flow": null,
       "grid_auto_rows": null,
       "grid_column": null,
       "grid_gap": null,
       "grid_row": null,
       "grid_template_areas": null,
       "grid_template_columns": null,
       "grid_template_rows": null,
       "height": null,
       "justify_content": null,
       "justify_items": null,
       "left": null,
       "margin": null,
       "max_height": null,
       "max_width": null,
       "min_height": null,
       "min_width": null,
       "object_fit": null,
       "object_position": null,
       "order": null,
       "overflow": null,
       "overflow_x": null,
       "overflow_y": null,
       "padding": null,
       "right": null,
       "top": null,
       "visibility": null,
       "width": null
      }
     },
     "213b039b7e2a4bd3aa9ce796e81e6326": {
      "model_module": "@jupyter-widgets/base",
      "model_module_version": "1.2.0",
      "model_name": "LayoutModel",
      "state": {
       "_model_module": "@jupyter-widgets/base",
       "_model_module_version": "1.2.0",
       "_model_name": "LayoutModel",
       "_view_count": null,
       "_view_module": "@jupyter-widgets/base",
       "_view_module_version": "1.2.0",
       "_view_name": "LayoutView",
       "align_content": null,
       "align_items": null,
       "align_self": null,
       "border": null,
       "bottom": null,
       "display": null,
       "flex": null,
       "flex_flow": null,
       "grid_area": null,
       "grid_auto_columns": null,
       "grid_auto_flow": null,
       "grid_auto_rows": null,
       "grid_column": null,
       "grid_gap": null,
       "grid_row": null,
       "grid_template_areas": null,
       "grid_template_columns": null,
       "grid_template_rows": null,
       "height": null,
       "justify_content": null,
       "justify_items": null,
       "left": null,
       "margin": null,
       "max_height": null,
       "max_width": null,
       "min_height": null,
       "min_width": null,
       "object_fit": null,
       "object_position": null,
       "order": null,
       "overflow": null,
       "overflow_x": null,
       "overflow_y": null,
       "padding": null,
       "right": null,
       "top": null,
       "visibility": null,
       "width": null
      }
     },
     "25186f01ba8a45a9ba831f8181dc8d56": {
      "model_module": "@jupyter-widgets/controls",
      "model_module_version": "1.5.0",
      "model_name": "HTMLModel",
      "state": {
       "_dom_classes": [],
       "_model_module": "@jupyter-widgets/controls",
       "_model_module_version": "1.5.0",
       "_model_name": "HTMLModel",
       "_view_count": null,
       "_view_module": "@jupyter-widgets/controls",
       "_view_module_version": "1.5.0",
       "_view_name": "HTMLView",
       "description": "",
       "description_tooltip": null,
       "layout": "IPY_MODEL_84a3a5b21ef245ac94415a1bad8ed399",
       "placeholder": "​",
       "style": "IPY_MODEL_72bdfc1b20e24d8ba1e8a3f73feadb4a",
       "value": "pytorch_model.bin: 100%"
      }
     },
     "282e3cb6a3b7424eaf774ab36a6c060c": {
      "model_module": "@jupyter-widgets/base",
      "model_module_version": "1.2.0",
      "model_name": "LayoutModel",
      "state": {
       "_model_module": "@jupyter-widgets/base",
       "_model_module_version": "1.2.0",
       "_model_name": "LayoutModel",
       "_view_count": null,
       "_view_module": "@jupyter-widgets/base",
       "_view_module_version": "1.2.0",
       "_view_name": "LayoutView",
       "align_content": null,
       "align_items": null,
       "align_self": null,
       "border": null,
       "bottom": null,
       "display": null,
       "flex": null,
       "flex_flow": null,
       "grid_area": null,
       "grid_auto_columns": null,
       "grid_auto_flow": null,
       "grid_auto_rows": null,
       "grid_column": null,
       "grid_gap": null,
       "grid_row": null,
       "grid_template_areas": null,
       "grid_template_columns": null,
       "grid_template_rows": null,
       "height": null,
       "justify_content": null,
       "justify_items": null,
       "left": null,
       "margin": null,
       "max_height": null,
       "max_width": null,
       "min_height": null,
       "min_width": null,
       "object_fit": null,
       "object_position": null,
       "order": null,
       "overflow": null,
       "overflow_x": null,
       "overflow_y": null,
       "padding": null,
       "right": null,
       "top": null,
       "visibility": null,
       "width": null
      }
     },
     "2af60be4158e450298a8030e3b1a36a2": {
      "model_module": "@jupyter-widgets/controls",
      "model_module_version": "1.5.0",
      "model_name": "FloatProgressModel",
      "state": {
       "_dom_classes": [],
       "_model_module": "@jupyter-widgets/controls",
       "_model_module_version": "1.5.0",
       "_model_name": "FloatProgressModel",
       "_view_count": null,
       "_view_module": "@jupyter-widgets/controls",
       "_view_module_version": "1.5.0",
       "_view_name": "ProgressView",
       "bar_style": "success",
       "description": "",
       "description_tooltip": null,
       "layout": "IPY_MODEL_eb6b3fd9ec204a98805b7ffb478e5103",
       "max": 3132320,
       "min": 0,
       "orientation": "horizontal",
       "style": "IPY_MODEL_3e4c5f070bb34e06b9419c93eb5f194c",
       "value": 3132320
      }
     },
     "2d06728804404d4e8fb5a2f5dd661269": {
      "model_module": "@jupyter-widgets/base",
      "model_module_version": "1.2.0",
      "model_name": "LayoutModel",
      "state": {
       "_model_module": "@jupyter-widgets/base",
       "_model_module_version": "1.2.0",
       "_model_name": "LayoutModel",
       "_view_count": null,
       "_view_module": "@jupyter-widgets/base",
       "_view_module_version": "1.2.0",
       "_view_name": "LayoutView",
       "align_content": null,
       "align_items": null,
       "align_self": null,
       "border": null,
       "bottom": null,
       "display": null,
       "flex": null,
       "flex_flow": null,
       "grid_area": null,
       "grid_auto_columns": null,
       "grid_auto_flow": null,
       "grid_auto_rows": null,
       "grid_column": null,
       "grid_gap": null,
       "grid_row": null,
       "grid_template_areas": null,
       "grid_template_columns": null,
       "grid_template_rows": null,
       "height": null,
       "justify_content": null,
       "justify_items": null,
       "left": null,
       "margin": null,
       "max_height": null,
       "max_width": null,
       "min_height": null,
       "min_width": null,
       "object_fit": null,
       "object_position": null,
       "order": null,
       "overflow": null,
       "overflow_x": null,
       "overflow_y": null,
       "padding": null,
       "right": null,
       "top": null,
       "visibility": null,
       "width": null
      }
     },
     "3126270594e649eaa50c6007f365694f": {
      "model_module": "@jupyter-widgets/controls",
      "model_module_version": "1.5.0",
      "model_name": "HTMLModel",
      "state": {
       "_dom_classes": [],
       "_model_module": "@jupyter-widgets/controls",
       "_model_module_version": "1.5.0",
       "_model_name": "HTMLModel",
       "_view_count": null,
       "_view_module": "@jupyter-widgets/controls",
       "_view_module_version": "1.5.0",
       "_view_name": "HTMLView",
       "description": "",
       "description_tooltip": null,
       "layout": "IPY_MODEL_9daf8d7984904e81b7134cdf2a2bb54f",
       "placeholder": "​",
       "style": "IPY_MODEL_af7f00838db74cfa80ed51dcb7fe0f78",
       "value": "bpe.codes: 100%"
      }
     },
     "32b9c1852d21440c9056b981af7dbb3a": {
      "model_module": "@jupyter-widgets/controls",
      "model_module_version": "1.5.0",
      "model_name": "HTMLModel",
      "state": {
       "_dom_classes": [],
       "_model_module": "@jupyter-widgets/controls",
       "_model_module_version": "1.5.0",
       "_model_name": "HTMLModel",
       "_view_count": null,
       "_view_module": "@jupyter-widgets/controls",
       "_view_module_version": "1.5.0",
       "_view_name": "HTMLView",
       "description": "",
       "description_tooltip": null,
       "layout": "IPY_MODEL_19fa870d20b44fc886c87a8856adf5aa",
       "placeholder": "​",
       "style": "IPY_MODEL_09a68304a88e4f5aa536031d4546e36a",
       "value": "tokenizer.json: 100%"
      }
     },
     "333f147c22e54d33b5eafe007af58093": {
      "model_module": "@jupyter-widgets/controls",
      "model_module_version": "1.5.0",
      "model_name": "HTMLModel",
      "state": {
       "_dom_classes": [],
       "_model_module": "@jupyter-widgets/controls",
       "_model_module_version": "1.5.0",
       "_model_name": "HTMLModel",
       "_view_count": null,
       "_view_module": "@jupyter-widgets/controls",
       "_view_module_version": "1.5.0",
       "_view_name": "HTMLView",
       "description": "",
       "description_tooltip": null,
       "layout": "IPY_MODEL_c899dd9d9c9f4704b388d96a21e0db21",
       "placeholder": "​",
       "style": "IPY_MODEL_4ab36218d14f4f30ace4e42a2e2d8418",
       "value": "config.json: 100%"
      }
     },
     "3e4c5f070bb34e06b9419c93eb5f194c": {
      "model_module": "@jupyter-widgets/controls",
      "model_module_version": "1.5.0",
      "model_name": "ProgressStyleModel",
      "state": {
       "_model_module": "@jupyter-widgets/controls",
       "_model_module_version": "1.5.0",
       "_model_name": "ProgressStyleModel",
       "_view_count": null,
       "_view_module": "@jupyter-widgets/base",
       "_view_module_version": "1.2.0",
       "_view_name": "StyleView",
       "bar_color": null,
       "description_width": ""
      }
     },
     "4ab36218d14f4f30ace4e42a2e2d8418": {
      "model_module": "@jupyter-widgets/controls",
      "model_module_version": "1.5.0",
      "model_name": "DescriptionStyleModel",
      "state": {
       "_model_module": "@jupyter-widgets/controls",
       "_model_module_version": "1.5.0",
       "_model_name": "DescriptionStyleModel",
       "_view_count": null,
       "_view_module": "@jupyter-widgets/base",
       "_view_module_version": "1.2.0",
       "_view_name": "StyleView",
       "description_width": ""
      }
     },
     "4aff4d3188114dfaac8a4bc735cb2e17": {
      "model_module": "@jupyter-widgets/controls",
      "model_module_version": "1.5.0",
      "model_name": "ProgressStyleModel",
      "state": {
       "_model_module": "@jupyter-widgets/controls",
       "_model_module_version": "1.5.0",
       "_model_name": "ProgressStyleModel",
       "_view_count": null,
       "_view_module": "@jupyter-widgets/base",
       "_view_module_version": "1.2.0",
       "_view_name": "StyleView",
       "bar_color": null,
       "description_width": ""
      }
     },
     "4c8ef65fe3f14dee961e45efafac153a": {
      "model_module": "@jupyter-widgets/base",
      "model_module_version": "1.2.0",
      "model_name": "LayoutModel",
      "state": {
       "_model_module": "@jupyter-widgets/base",
       "_model_module_version": "1.2.0",
       "_model_name": "LayoutModel",
       "_view_count": null,
       "_view_module": "@jupyter-widgets/base",
       "_view_module_version": "1.2.0",
       "_view_name": "LayoutView",
       "align_content": null,
       "align_items": null,
       "align_self": null,
       "border": null,
       "bottom": null,
       "display": null,
       "flex": null,
       "flex_flow": null,
       "grid_area": null,
       "grid_auto_columns": null,
       "grid_auto_flow": null,
       "grid_auto_rows": null,
       "grid_column": null,
       "grid_gap": null,
       "grid_row": null,
       "grid_template_areas": null,
       "grid_template_columns": null,
       "grid_template_rows": null,
       "height": null,
       "justify_content": null,
       "justify_items": null,
       "left": null,
       "margin": null,
       "max_height": null,
       "max_width": null,
       "min_height": null,
       "min_width": null,
       "object_fit": null,
       "object_position": null,
       "order": null,
       "overflow": null,
       "overflow_x": null,
       "overflow_y": null,
       "padding": null,
       "right": null,
       "top": null,
       "visibility": null,
       "width": null
      }
     },
     "6ae6fd5ce92e4b87befdc749ecdfe808": {
      "model_module": "@jupyter-widgets/controls",
      "model_module_version": "1.5.0",
      "model_name": "HTMLModel",
      "state": {
       "_dom_classes": [],
       "_model_module": "@jupyter-widgets/controls",
       "_model_module_version": "1.5.0",
       "_model_name": "HTMLModel",
       "_view_count": null,
       "_view_module": "@jupyter-widgets/controls",
       "_view_module_version": "1.5.0",
       "_view_name": "HTMLView",
       "description": "",
       "description_tooltip": null,
       "layout": "IPY_MODEL_b9e63a1159be4da0aa8f17db691b5547",
       "placeholder": "​",
       "style": "IPY_MODEL_0c70b9d35e284043b4c5e63369ef32d5",
       "value": " 1.14M/1.14M [00:00&lt;00:00, 33.7MB/s]"
      }
     },
     "6ed19541bd9a40c3a8574c6e5aa2800e": {
      "model_module": "@jupyter-widgets/controls",
      "model_module_version": "1.5.0",
      "model_name": "FloatProgressModel",
      "state": {
       "_dom_classes": [],
       "_model_module": "@jupyter-widgets/controls",
       "_model_module_version": "1.5.0",
       "_model_name": "FloatProgressModel",
       "_view_count": null,
       "_view_module": "@jupyter-widgets/controls",
       "_view_module_version": "1.5.0",
       "_view_name": "ProgressView",
       "bar_style": "success",
       "description": "",
       "description_tooltip": null,
       "layout": "IPY_MODEL_9c7e1246dfb342b79417aa7993bfb346",
       "max": 895321,
       "min": 0,
       "orientation": "horizontal",
       "style": "IPY_MODEL_9a7817f95a984ac58202cf4f5790b0c0",
       "value": 895321
      }
     },
     "6f1ac4a01e4444b490c03607850dd13b": {
      "model_module": "@jupyter-widgets/controls",
      "model_module_version": "1.5.0",
      "model_name": "HTMLModel",
      "state": {
       "_dom_classes": [],
       "_model_module": "@jupyter-widgets/controls",
       "_model_module_version": "1.5.0",
       "_model_name": "HTMLModel",
       "_view_count": null,
       "_view_module": "@jupyter-widgets/controls",
       "_view_module_version": "1.5.0",
       "_view_name": "HTMLView",
       "description": "",
       "description_tooltip": null,
       "layout": "IPY_MODEL_7974a098550646da81af544d53dc5e89",
       "placeholder": "​",
       "style": "IPY_MODEL_dd3d10aef11c45cab4e3096a651c790f",
       "value": " 3.13M/3.13M [00:00&lt;00:00, 6.26MB/s]"
      }
     },
     "72bdfc1b20e24d8ba1e8a3f73feadb4a": {
      "model_module": "@jupyter-widgets/controls",
      "model_module_version": "1.5.0",
      "model_name": "DescriptionStyleModel",
      "state": {
       "_model_module": "@jupyter-widgets/controls",
       "_model_module_version": "1.5.0",
       "_model_name": "DescriptionStyleModel",
       "_view_count": null,
       "_view_module": "@jupyter-widgets/base",
       "_view_module_version": "1.2.0",
       "_view_name": "StyleView",
       "description_width": ""
      }
     },
     "75cd3c385b1747419112b87062210296": {
      "model_module": "@jupyter-widgets/base",
      "model_module_version": "1.2.0",
      "model_name": "LayoutModel",
      "state": {
       "_model_module": "@jupyter-widgets/base",
       "_model_module_version": "1.2.0",
       "_model_name": "LayoutModel",
       "_view_count": null,
       "_view_module": "@jupyter-widgets/base",
       "_view_module_version": "1.2.0",
       "_view_name": "LayoutView",
       "align_content": null,
       "align_items": null,
       "align_self": null,
       "border": null,
       "bottom": null,
       "display": null,
       "flex": null,
       "flex_flow": null,
       "grid_area": null,
       "grid_auto_columns": null,
       "grid_auto_flow": null,
       "grid_auto_rows": null,
       "grid_column": null,
       "grid_gap": null,
       "grid_row": null,
       "grid_template_areas": null,
       "grid_template_columns": null,
       "grid_template_rows": null,
       "height": null,
       "justify_content": null,
       "justify_items": null,
       "left": null,
       "margin": null,
       "max_height": null,
       "max_width": null,
       "min_height": null,
       "min_width": null,
       "object_fit": null,
       "object_position": null,
       "order": null,
       "overflow": null,
       "overflow_x": null,
       "overflow_y": null,
       "padding": null,
       "right": null,
       "top": null,
       "visibility": null,
       "width": null
      }
     },
     "7974a098550646da81af544d53dc5e89": {
      "model_module": "@jupyter-widgets/base",
      "model_module_version": "1.2.0",
      "model_name": "LayoutModel",
      "state": {
       "_model_module": "@jupyter-widgets/base",
       "_model_module_version": "1.2.0",
       "_model_name": "LayoutModel",
       "_view_count": null,
       "_view_module": "@jupyter-widgets/base",
       "_view_module_version": "1.2.0",
       "_view_name": "LayoutView",
       "align_content": null,
       "align_items": null,
       "align_self": null,
       "border": null,
       "bottom": null,
       "display": null,
       "flex": null,
       "flex_flow": null,
       "grid_area": null,
       "grid_auto_columns": null,
       "grid_auto_flow": null,
       "grid_auto_rows": null,
       "grid_column": null,
       "grid_gap": null,
       "grid_row": null,
       "grid_template_areas": null,
       "grid_template_columns": null,
       "grid_template_rows": null,
       "height": null,
       "justify_content": null,
       "justify_items": null,
       "left": null,
       "margin": null,
       "max_height": null,
       "max_width": null,
       "min_height": null,
       "min_width": null,
       "object_fit": null,
       "object_position": null,
       "order": null,
       "overflow": null,
       "overflow_x": null,
       "overflow_y": null,
       "padding": null,
       "right": null,
       "top": null,
       "visibility": null,
       "width": null
      }
     },
     "7e7aaa7e859e47e6aeac46b2139df250": {
      "model_module": "@jupyter-widgets/controls",
      "model_module_version": "1.5.0",
      "model_name": "HBoxModel",
      "state": {
       "_dom_classes": [],
       "_model_module": "@jupyter-widgets/controls",
       "_model_module_version": "1.5.0",
       "_model_name": "HBoxModel",
       "_view_count": null,
       "_view_module": "@jupyter-widgets/controls",
       "_view_module_version": "1.5.0",
       "_view_name": "HBoxView",
       "box_style": "",
       "children": [
        "IPY_MODEL_e0a6a892074c466d89fbae13a152f6c2",
        "IPY_MODEL_6ed19541bd9a40c3a8574c6e5aa2800e",
        "IPY_MODEL_0ca90206150b44f1862ce01be02692a3"
       ],
       "layout": "IPY_MODEL_bf07231893a644b58473e0d0d3b57b71"
      }
     },
     "83e7636d5a164e0fae839765747e1a68": {
      "model_module": "@jupyter-widgets/controls",
      "model_module_version": "1.5.0",
      "model_name": "HBoxModel",
      "state": {
       "_dom_classes": [],
       "_model_module": "@jupyter-widgets/controls",
       "_model_module_version": "1.5.0",
       "_model_name": "HBoxModel",
       "_view_count": null,
       "_view_module": "@jupyter-widgets/controls",
       "_view_module_version": "1.5.0",
       "_view_name": "HBoxView",
       "box_style": "",
       "children": [
        "IPY_MODEL_32b9c1852d21440c9056b981af7dbb3a",
        "IPY_MODEL_2af60be4158e450298a8030e3b1a36a2",
        "IPY_MODEL_6f1ac4a01e4444b490c03607850dd13b"
       ],
       "layout": "IPY_MODEL_fad08642bf2446d09d5f2deb9da9c466"
      }
     },
     "84a3a5b21ef245ac94415a1bad8ed399": {
      "model_module": "@jupyter-widgets/base",
      "model_module_version": "1.2.0",
      "model_name": "LayoutModel",
      "state": {
       "_model_module": "@jupyter-widgets/base",
       "_model_module_version": "1.2.0",
       "_model_name": "LayoutModel",
       "_view_count": null,
       "_view_module": "@jupyter-widgets/base",
       "_view_module_version": "1.2.0",
       "_view_name": "LayoutView",
       "align_content": null,
       "align_items": null,
       "align_self": null,
       "border": null,
       "bottom": null,
       "display": null,
       "flex": null,
       "flex_flow": null,
       "grid_area": null,
       "grid_auto_columns": null,
       "grid_auto_flow": null,
       "grid_auto_rows": null,
       "grid_column": null,
       "grid_gap": null,
       "grid_row": null,
       "grid_template_areas": null,
       "grid_template_columns": null,
       "grid_template_rows": null,
       "height": null,
       "justify_content": null,
       "justify_items": null,
       "left": null,
       "margin": null,
       "max_height": null,
       "max_width": null,
       "min_height": null,
       "min_width": null,
       "object_fit": null,
       "object_position": null,
       "order": null,
       "overflow": null,
       "overflow_x": null,
       "overflow_y": null,
       "padding": null,
       "right": null,
       "top": null,
       "visibility": null,
       "width": null
      }
     },
     "8ba3d48e78a449418b5cda4b5c396805": {
      "model_module": "@jupyter-widgets/base",
      "model_module_version": "1.2.0",
      "model_name": "LayoutModel",
      "state": {
       "_model_module": "@jupyter-widgets/base",
       "_model_module_version": "1.2.0",
       "_model_name": "LayoutModel",
       "_view_count": null,
       "_view_module": "@jupyter-widgets/base",
       "_view_module_version": "1.2.0",
       "_view_name": "LayoutView",
       "align_content": null,
       "align_items": null,
       "align_self": null,
       "border": null,
       "bottom": null,
       "display": null,
       "flex": null,
       "flex_flow": null,
       "grid_area": null,
       "grid_auto_columns": null,
       "grid_auto_flow": null,
       "grid_auto_rows": null,
       "grid_column": null,
       "grid_gap": null,
       "grid_row": null,
       "grid_template_areas": null,
       "grid_template_columns": null,
       "grid_template_rows": null,
       "height": null,
       "justify_content": null,
       "justify_items": null,
       "left": null,
       "margin": null,
       "max_height": null,
       "max_width": null,
       "min_height": null,
       "min_width": null,
       "object_fit": null,
       "object_position": null,
       "order": null,
       "overflow": null,
       "overflow_x": null,
       "overflow_y": null,
       "padding": null,
       "right": null,
       "top": null,
       "visibility": null,
       "width": null
      }
     },
     "97ee76fd94fb471db4a00de7d7e10c52": {
      "model_module": "@jupyter-widgets/base",
      "model_module_version": "1.2.0",
      "model_name": "LayoutModel",
      "state": {
       "_model_module": "@jupyter-widgets/base",
       "_model_module_version": "1.2.0",
       "_model_name": "LayoutModel",
       "_view_count": null,
       "_view_module": "@jupyter-widgets/base",
       "_view_module_version": "1.2.0",
       "_view_name": "LayoutView",
       "align_content": null,
       "align_items": null,
       "align_self": null,
       "border": null,
       "bottom": null,
       "display": null,
       "flex": null,
       "flex_flow": null,
       "grid_area": null,
       "grid_auto_columns": null,
       "grid_auto_flow": null,
       "grid_auto_rows": null,
       "grid_column": null,
       "grid_gap": null,
       "grid_row": null,
       "grid_template_areas": null,
       "grid_template_columns": null,
       "grid_template_rows": null,
       "height": null,
       "justify_content": null,
       "justify_items": null,
       "left": null,
       "margin": null,
       "max_height": null,
       "max_width": null,
       "min_height": null,
       "min_width": null,
       "object_fit": null,
       "object_position": null,
       "order": null,
       "overflow": null,
       "overflow_x": null,
       "overflow_y": null,
       "padding": null,
       "right": null,
       "top": null,
       "visibility": null,
       "width": null
      }
     },
     "9a7817f95a984ac58202cf4f5790b0c0": {
      "model_module": "@jupyter-widgets/controls",
      "model_module_version": "1.5.0",
      "model_name": "ProgressStyleModel",
      "state": {
       "_model_module": "@jupyter-widgets/controls",
       "_model_module_version": "1.5.0",
       "_model_name": "ProgressStyleModel",
       "_view_count": null,
       "_view_module": "@jupyter-widgets/base",
       "_view_module_version": "1.2.0",
       "_view_name": "StyleView",
       "bar_color": null,
       "description_width": ""
      }
     },
     "9c7e1246dfb342b79417aa7993bfb346": {
      "model_module": "@jupyter-widgets/base",
      "model_module_version": "1.2.0",
      "model_name": "LayoutModel",
      "state": {
       "_model_module": "@jupyter-widgets/base",
       "_model_module_version": "1.2.0",
       "_model_name": "LayoutModel",
       "_view_count": null,
       "_view_module": "@jupyter-widgets/base",
       "_view_module_version": "1.2.0",
       "_view_name": "LayoutView",
       "align_content": null,
       "align_items": null,
       "align_self": null,
       "border": null,
       "bottom": null,
       "display": null,
       "flex": null,
       "flex_flow": null,
       "grid_area": null,
       "grid_auto_columns": null,
       "grid_auto_flow": null,
       "grid_auto_rows": null,
       "grid_column": null,
       "grid_gap": null,
       "grid_row": null,
       "grid_template_areas": null,
       "grid_template_columns": null,
       "grid_template_rows": null,
       "height": null,
       "justify_content": null,
       "justify_items": null,
       "left": null,
       "margin": null,
       "max_height": null,
       "max_width": null,
       "min_height": null,
       "min_width": null,
       "object_fit": null,
       "object_position": null,
       "order": null,
       "overflow": null,
       "overflow_x": null,
       "overflow_y": null,
       "padding": null,
       "right": null,
       "top": null,
       "visibility": null,
       "width": null
      }
     },
     "9daf8d7984904e81b7134cdf2a2bb54f": {
      "model_module": "@jupyter-widgets/base",
      "model_module_version": "1.2.0",
      "model_name": "LayoutModel",
      "state": {
       "_model_module": "@jupyter-widgets/base",
       "_model_module_version": "1.2.0",
       "_model_name": "LayoutModel",
       "_view_count": null,
       "_view_module": "@jupyter-widgets/base",
       "_view_module_version": "1.2.0",
       "_view_name": "LayoutView",
       "align_content": null,
       "align_items": null,
       "align_self": null,
       "border": null,
       "bottom": null,
       "display": null,
       "flex": null,
       "flex_flow": null,
       "grid_area": null,
       "grid_auto_columns": null,
       "grid_auto_flow": null,
       "grid_auto_rows": null,
       "grid_column": null,
       "grid_gap": null,
       "grid_row": null,
       "grid_template_areas": null,
       "grid_template_columns": null,
       "grid_template_rows": null,
       "height": null,
       "justify_content": null,
       "justify_items": null,
       "left": null,
       "margin": null,
       "max_height": null,
       "max_width": null,
       "min_height": null,
       "min_width": null,
       "object_fit": null,
       "object_position": null,
       "order": null,
       "overflow": null,
       "overflow_x": null,
       "overflow_y": null,
       "padding": null,
       "right": null,
       "top": null,
       "visibility": null,
       "width": null
      }
     },
     "a34554ca20f14d03bc8eb720caff7611": {
      "model_module": "@jupyter-widgets/controls",
      "model_module_version": "1.5.0",
      "model_name": "FloatProgressModel",
      "state": {
       "_dom_classes": [],
       "_model_module": "@jupyter-widgets/controls",
       "_model_module_version": "1.5.0",
       "_model_name": "FloatProgressModel",
       "_view_count": null,
       "_view_module": "@jupyter-widgets/controls",
       "_view_module_version": "1.5.0",
       "_view_name": "ProgressView",
       "bar_style": "success",
       "description": "",
       "description_tooltip": null,
       "layout": "IPY_MODEL_4c8ef65fe3f14dee961e45efafac153a",
       "max": 1135173,
       "min": 0,
       "orientation": "horizontal",
       "style": "IPY_MODEL_b6a8b0ac13ce42f0b4e782d46ae0415d",
       "value": 1135173
      }
     },
     "a8bb73ab32e34b09a04a24e1541a3912": {
      "model_module": "@jupyter-widgets/controls",
      "model_module_version": "1.5.0",
      "model_name": "DescriptionStyleModel",
      "state": {
       "_model_module": "@jupyter-widgets/controls",
       "_model_module_version": "1.5.0",
       "_model_name": "DescriptionStyleModel",
       "_view_count": null,
       "_view_module": "@jupyter-widgets/base",
       "_view_module_version": "1.2.0",
       "_view_name": "StyleView",
       "description_width": ""
      }
     },
     "af7f00838db74cfa80ed51dcb7fe0f78": {
      "model_module": "@jupyter-widgets/controls",
      "model_module_version": "1.5.0",
      "model_name": "DescriptionStyleModel",
      "state": {
       "_model_module": "@jupyter-widgets/controls",
       "_model_module_version": "1.5.0",
       "_model_name": "DescriptionStyleModel",
       "_view_count": null,
       "_view_module": "@jupyter-widgets/base",
       "_view_module_version": "1.2.0",
       "_view_name": "StyleView",
       "description_width": ""
      }
     },
     "b54a78126963471a9a1d50efb68efd68": {
      "model_module": "@jupyter-widgets/base",
      "model_module_version": "1.2.0",
      "model_name": "LayoutModel",
      "state": {
       "_model_module": "@jupyter-widgets/base",
       "_model_module_version": "1.2.0",
       "_model_name": "LayoutModel",
       "_view_count": null,
       "_view_module": "@jupyter-widgets/base",
       "_view_module_version": "1.2.0",
       "_view_name": "LayoutView",
       "align_content": null,
       "align_items": null,
       "align_self": null,
       "border": null,
       "bottom": null,
       "display": null,
       "flex": null,
       "flex_flow": null,
       "grid_area": null,
       "grid_auto_columns": null,
       "grid_auto_flow": null,
       "grid_auto_rows": null,
       "grid_column": null,
       "grid_gap": null,
       "grid_row": null,
       "grid_template_areas": null,
       "grid_template_columns": null,
       "grid_template_rows": null,
       "height": null,
       "justify_content": null,
       "justify_items": null,
       "left": null,
       "margin": null,
       "max_height": null,
       "max_width": null,
       "min_height": null,
       "min_width": null,
       "object_fit": null,
       "object_position": null,
       "order": null,
       "overflow": null,
       "overflow_x": null,
       "overflow_y": null,
       "padding": null,
       "right": null,
       "top": null,
       "visibility": null,
       "width": null
      }
     },
     "b5d55df19f344782819d48f7c36534b1": {
      "model_module": "@jupyter-widgets/controls",
      "model_module_version": "1.5.0",
      "model_name": "HTMLModel",
      "state": {
       "_dom_classes": [],
       "_model_module": "@jupyter-widgets/controls",
       "_model_module_version": "1.5.0",
       "_model_name": "HTMLModel",
       "_view_count": null,
       "_view_module": "@jupyter-widgets/controls",
       "_view_module_version": "1.5.0",
       "_view_name": "HTMLView",
       "description": "",
       "description_tooltip": null,
       "layout": "IPY_MODEL_213b039b7e2a4bd3aa9ce796e81e6326",
       "placeholder": "​",
       "style": "IPY_MODEL_a8bb73ab32e34b09a04a24e1541a3912",
       "value": " 543M/543M [00:01&lt;00:00, 450MB/s]"
      }
     },
     "b6a6815369f148748fe0a385da7c56fd": {
      "model_module": "@jupyter-widgets/base",
      "model_module_version": "1.2.0",
      "model_name": "LayoutModel",
      "state": {
       "_model_module": "@jupyter-widgets/base",
       "_model_module_version": "1.2.0",
       "_model_name": "LayoutModel",
       "_view_count": null,
       "_view_module": "@jupyter-widgets/base",
       "_view_module_version": "1.2.0",
       "_view_name": "LayoutView",
       "align_content": null,
       "align_items": null,
       "align_self": null,
       "border": null,
       "bottom": null,
       "display": null,
       "flex": null,
       "flex_flow": null,
       "grid_area": null,
       "grid_auto_columns": null,
       "grid_auto_flow": null,
       "grid_auto_rows": null,
       "grid_column": null,
       "grid_gap": null,
       "grid_row": null,
       "grid_template_areas": null,
       "grid_template_columns": null,
       "grid_template_rows": null,
       "height": null,
       "justify_content": null,
       "justify_items": null,
       "left": null,
       "margin": null,
       "max_height": null,
       "max_width": null,
       "min_height": null,
       "min_width": null,
       "object_fit": null,
       "object_position": null,
       "order": null,
       "overflow": null,
       "overflow_x": null,
       "overflow_y": null,
       "padding": null,
       "right": null,
       "top": null,
       "visibility": null,
       "width": null
      }
     },
     "b6a8b0ac13ce42f0b4e782d46ae0415d": {
      "model_module": "@jupyter-widgets/controls",
      "model_module_version": "1.5.0",
      "model_name": "ProgressStyleModel",
      "state": {
       "_model_module": "@jupyter-widgets/controls",
       "_model_module_version": "1.5.0",
       "_model_name": "ProgressStyleModel",
       "_view_count": null,
       "_view_module": "@jupyter-widgets/base",
       "_view_module_version": "1.2.0",
       "_view_name": "StyleView",
       "bar_color": null,
       "description_width": ""
      }
     },
     "b918a268b9424b2c9ee8b36a29f644c3": {
      "model_module": "@jupyter-widgets/controls",
      "model_module_version": "1.5.0",
      "model_name": "DescriptionStyleModel",
      "state": {
       "_model_module": "@jupyter-widgets/controls",
       "_model_module_version": "1.5.0",
       "_model_name": "DescriptionStyleModel",
       "_view_count": null,
       "_view_module": "@jupyter-widgets/base",
       "_view_module_version": "1.2.0",
       "_view_name": "StyleView",
       "description_width": ""
      }
     },
     "b9e63a1159be4da0aa8f17db691b5547": {
      "model_module": "@jupyter-widgets/base",
      "model_module_version": "1.2.0",
      "model_name": "LayoutModel",
      "state": {
       "_model_module": "@jupyter-widgets/base",
       "_model_module_version": "1.2.0",
       "_model_name": "LayoutModel",
       "_view_count": null,
       "_view_module": "@jupyter-widgets/base",
       "_view_module_version": "1.2.0",
       "_view_name": "LayoutView",
       "align_content": null,
       "align_items": null,
       "align_self": null,
       "border": null,
       "bottom": null,
       "display": null,
       "flex": null,
       "flex_flow": null,
       "grid_area": null,
       "grid_auto_columns": null,
       "grid_auto_flow": null,
       "grid_auto_rows": null,
       "grid_column": null,
       "grid_gap": null,
       "grid_row": null,
       "grid_template_areas": null,
       "grid_template_columns": null,
       "grid_template_rows": null,
       "height": null,
       "justify_content": null,
       "justify_items": null,
       "left": null,
       "margin": null,
       "max_height": null,
       "max_width": null,
       "min_height": null,
       "min_width": null,
       "object_fit": null,
       "object_position": null,
       "order": null,
       "overflow": null,
       "overflow_x": null,
       "overflow_y": null,
       "padding": null,
       "right": null,
       "top": null,
       "visibility": null,
       "width": null
      }
     },
     "bf07231893a644b58473e0d0d3b57b71": {
      "model_module": "@jupyter-widgets/base",
      "model_module_version": "1.2.0",
      "model_name": "LayoutModel",
      "state": {
       "_model_module": "@jupyter-widgets/base",
       "_model_module_version": "1.2.0",
       "_model_name": "LayoutModel",
       "_view_count": null,
       "_view_module": "@jupyter-widgets/base",
       "_view_module_version": "1.2.0",
       "_view_name": "LayoutView",
       "align_content": null,
       "align_items": null,
       "align_self": null,
       "border": null,
       "bottom": null,
       "display": null,
       "flex": null,
       "flex_flow": null,
       "grid_area": null,
       "grid_auto_columns": null,
       "grid_auto_flow": null,
       "grid_auto_rows": null,
       "grid_column": null,
       "grid_gap": null,
       "grid_row": null,
       "grid_template_areas": null,
       "grid_template_columns": null,
       "grid_template_rows": null,
       "height": null,
       "justify_content": null,
       "justify_items": null,
       "left": null,
       "margin": null,
       "max_height": null,
       "max_width": null,
       "min_height": null,
       "min_width": null,
       "object_fit": null,
       "object_position": null,
       "order": null,
       "overflow": null,
       "overflow_x": null,
       "overflow_y": null,
       "padding": null,
       "right": null,
       "top": null,
       "visibility": null,
       "width": null
      }
     },
     "c899dd9d9c9f4704b388d96a21e0db21": {
      "model_module": "@jupyter-widgets/base",
      "model_module_version": "1.2.0",
      "model_name": "LayoutModel",
      "state": {
       "_model_module": "@jupyter-widgets/base",
       "_model_module_version": "1.2.0",
       "_model_name": "LayoutModel",
       "_view_count": null,
       "_view_module": "@jupyter-widgets/base",
       "_view_module_version": "1.2.0",
       "_view_name": "LayoutView",
       "align_content": null,
       "align_items": null,
       "align_self": null,
       "border": null,
       "bottom": null,
       "display": null,
       "flex": null,
       "flex_flow": null,
       "grid_area": null,
       "grid_auto_columns": null,
       "grid_auto_flow": null,
       "grid_auto_rows": null,
       "grid_column": null,
       "grid_gap": null,
       "grid_row": null,
       "grid_template_areas": null,
       "grid_template_columns": null,
       "grid_template_rows": null,
       "height": null,
       "justify_content": null,
       "justify_items": null,
       "left": null,
       "margin": null,
       "max_height": null,
       "max_width": null,
       "min_height": null,
       "min_width": null,
       "object_fit": null,
       "object_position": null,
       "order": null,
       "overflow": null,
       "overflow_x": null,
       "overflow_y": null,
       "padding": null,
       "right": null,
       "top": null,
       "visibility": null,
       "width": null
      }
     },
     "ca69d10e4d31421486908082ef649632": {
      "model_module": "@jupyter-widgets/controls",
      "model_module_version": "1.5.0",
      "model_name": "HBoxModel",
      "state": {
       "_dom_classes": [],
       "_model_module": "@jupyter-widgets/controls",
       "_model_module_version": "1.5.0",
       "_model_name": "HBoxModel",
       "_view_count": null,
       "_view_module": "@jupyter-widgets/controls",
       "_view_module_version": "1.5.0",
       "_view_name": "HBoxView",
       "box_style": "",
       "children": [
        "IPY_MODEL_25186f01ba8a45a9ba831f8181dc8d56",
        "IPY_MODEL_feb3d2c33e4041e899f66d7f8ce40fe6",
        "IPY_MODEL_b5d55df19f344782819d48f7c36534b1"
       ],
       "layout": "IPY_MODEL_75cd3c385b1747419112b87062210296"
      }
     },
     "d4c91bab4d9444dba035073f880bea6a": {
      "model_module": "@jupyter-widgets/controls",
      "model_module_version": "1.5.0",
      "model_name": "DescriptionStyleModel",
      "state": {
       "_model_module": "@jupyter-widgets/controls",
       "_model_module_version": "1.5.0",
       "_model_name": "DescriptionStyleModel",
       "_view_count": null,
       "_view_module": "@jupyter-widgets/base",
       "_view_module_version": "1.2.0",
       "_view_name": "StyleView",
       "description_width": ""
      }
     },
     "da6a7f1a8492454ead343fdf881effe5": {
      "model_module": "@jupyter-widgets/controls",
      "model_module_version": "1.5.0",
      "model_name": "HBoxModel",
      "state": {
       "_dom_classes": [],
       "_model_module": "@jupyter-widgets/controls",
       "_model_module_version": "1.5.0",
       "_model_name": "HBoxModel",
       "_view_count": null,
       "_view_module": "@jupyter-widgets/controls",
       "_view_module_version": "1.5.0",
       "_view_name": "HBoxView",
       "box_style": "",
       "children": [
        "IPY_MODEL_333f147c22e54d33b5eafe007af58093",
        "IPY_MODEL_13ff9410fa92414e8a894c8880301f8a",
        "IPY_MODEL_0cfd0037b9f3496785589ceaa776c683"
       ],
       "layout": "IPY_MODEL_b54a78126963471a9a1d50efb68efd68"
      }
     },
     "db77cc28c58247a597ec73b2cc3980bc": {
      "model_module": "@jupyter-widgets/controls",
      "model_module_version": "1.5.0",
      "model_name": "DescriptionStyleModel",
      "state": {
       "_model_module": "@jupyter-widgets/controls",
       "_model_module_version": "1.5.0",
       "_model_name": "DescriptionStyleModel",
       "_view_count": null,
       "_view_module": "@jupyter-widgets/base",
       "_view_module_version": "1.2.0",
       "_view_name": "StyleView",
       "description_width": ""
      }
     },
     "dd3d10aef11c45cab4e3096a651c790f": {
      "model_module": "@jupyter-widgets/controls",
      "model_module_version": "1.5.0",
      "model_name": "DescriptionStyleModel",
      "state": {
       "_model_module": "@jupyter-widgets/controls",
       "_model_module_version": "1.5.0",
       "_model_name": "DescriptionStyleModel",
       "_view_count": null,
       "_view_module": "@jupyter-widgets/base",
       "_view_module_version": "1.2.0",
       "_view_name": "StyleView",
       "description_width": ""
      }
     },
     "e0a6a892074c466d89fbae13a152f6c2": {
      "model_module": "@jupyter-widgets/controls",
      "model_module_version": "1.5.0",
      "model_name": "HTMLModel",
      "state": {
       "_dom_classes": [],
       "_model_module": "@jupyter-widgets/controls",
       "_model_module_version": "1.5.0",
       "_model_name": "HTMLModel",
       "_view_count": null,
       "_view_module": "@jupyter-widgets/controls",
       "_view_module_version": "1.5.0",
       "_view_name": "HTMLView",
       "description": "",
       "description_tooltip": null,
       "layout": "IPY_MODEL_8ba3d48e78a449418b5cda4b5c396805",
       "placeholder": "​",
       "style": "IPY_MODEL_db77cc28c58247a597ec73b2cc3980bc",
       "value": "vocab.txt: 100%"
      }
     },
     "eb6b3fd9ec204a98805b7ffb478e5103": {
      "model_module": "@jupyter-widgets/base",
      "model_module_version": "1.2.0",
      "model_name": "LayoutModel",
      "state": {
       "_model_module": "@jupyter-widgets/base",
       "_model_module_version": "1.2.0",
       "_model_name": "LayoutModel",
       "_view_count": null,
       "_view_module": "@jupyter-widgets/base",
       "_view_module_version": "1.2.0",
       "_view_name": "LayoutView",
       "align_content": null,
       "align_items": null,
       "align_self": null,
       "border": null,
       "bottom": null,
       "display": null,
       "flex": null,
       "flex_flow": null,
       "grid_area": null,
       "grid_auto_columns": null,
       "grid_auto_flow": null,
       "grid_auto_rows": null,
       "grid_column": null,
       "grid_gap": null,
       "grid_row": null,
       "grid_template_areas": null,
       "grid_template_columns": null,
       "grid_template_rows": null,
       "height": null,
       "justify_content": null,
       "justify_items": null,
       "left": null,
       "margin": null,
       "max_height": null,
       "max_width": null,
       "min_height": null,
       "min_width": null,
       "object_fit": null,
       "object_position": null,
       "order": null,
       "overflow": null,
       "overflow_x": null,
       "overflow_y": null,
       "padding": null,
       "right": null,
       "top": null,
       "visibility": null,
       "width": null
      }
     },
     "edb5d18a576d480491664f6d00b51a5b": {
      "model_module": "@jupyter-widgets/base",
      "model_module_version": "1.2.0",
      "model_name": "LayoutModel",
      "state": {
       "_model_module": "@jupyter-widgets/base",
       "_model_module_version": "1.2.0",
       "_model_name": "LayoutModel",
       "_view_count": null,
       "_view_module": "@jupyter-widgets/base",
       "_view_module_version": "1.2.0",
       "_view_name": "LayoutView",
       "align_content": null,
       "align_items": null,
       "align_self": null,
       "border": null,
       "bottom": null,
       "display": null,
       "flex": null,
       "flex_flow": null,
       "grid_area": null,
       "grid_auto_columns": null,
       "grid_auto_flow": null,
       "grid_auto_rows": null,
       "grid_column": null,
       "grid_gap": null,
       "grid_row": null,
       "grid_template_areas": null,
       "grid_template_columns": null,
       "grid_template_rows": null,
       "height": null,
       "justify_content": null,
       "justify_items": null,
       "left": null,
       "margin": null,
       "max_height": null,
       "max_width": null,
       "min_height": null,
       "min_width": null,
       "object_fit": null,
       "object_position": null,
       "order": null,
       "overflow": null,
       "overflow_x": null,
       "overflow_y": null,
       "padding": null,
       "right": null,
       "top": null,
       "visibility": null,
       "width": null
      }
     },
     "ee253cc136c4472cbd7fd8f4cedb9de0": {
      "model_module": "@jupyter-widgets/controls",
      "model_module_version": "1.5.0",
      "model_name": "HBoxModel",
      "state": {
       "_dom_classes": [],
       "_model_module": "@jupyter-widgets/controls",
       "_model_module_version": "1.5.0",
       "_model_name": "HBoxModel",
       "_view_count": null,
       "_view_module": "@jupyter-widgets/controls",
       "_view_module_version": "1.5.0",
       "_view_name": "HBoxView",
       "box_style": "",
       "children": [
        "IPY_MODEL_3126270594e649eaa50c6007f365694f",
        "IPY_MODEL_a34554ca20f14d03bc8eb720caff7611",
        "IPY_MODEL_6ae6fd5ce92e4b87befdc749ecdfe808"
       ],
       "layout": "IPY_MODEL_edb5d18a576d480491664f6d00b51a5b"
      }
     },
     "eee4433a771448328954e86e55e80731": {
      "model_module": "@jupyter-widgets/controls",
      "model_module_version": "1.5.0",
      "model_name": "ProgressStyleModel",
      "state": {
       "_model_module": "@jupyter-widgets/controls",
       "_model_module_version": "1.5.0",
       "_model_name": "ProgressStyleModel",
       "_view_count": null,
       "_view_module": "@jupyter-widgets/base",
       "_view_module_version": "1.2.0",
       "_view_name": "StyleView",
       "bar_color": null,
       "description_width": ""
      }
     },
     "fad08642bf2446d09d5f2deb9da9c466": {
      "model_module": "@jupyter-widgets/base",
      "model_module_version": "1.2.0",
      "model_name": "LayoutModel",
      "state": {
       "_model_module": "@jupyter-widgets/base",
       "_model_module_version": "1.2.0",
       "_model_name": "LayoutModel",
       "_view_count": null,
       "_view_module": "@jupyter-widgets/base",
       "_view_module_version": "1.2.0",
       "_view_name": "LayoutView",
       "align_content": null,
       "align_items": null,
       "align_self": null,
       "border": null,
       "bottom": null,
       "display": null,
       "flex": null,
       "flex_flow": null,
       "grid_area": null,
       "grid_auto_columns": null,
       "grid_auto_flow": null,
       "grid_auto_rows": null,
       "grid_column": null,
       "grid_gap": null,
       "grid_row": null,
       "grid_template_areas": null,
       "grid_template_columns": null,
       "grid_template_rows": null,
       "height": null,
       "justify_content": null,
       "justify_items": null,
       "left": null,
       "margin": null,
       "max_height": null,
       "max_width": null,
       "min_height": null,
       "min_width": null,
       "object_fit": null,
       "object_position": null,
       "order": null,
       "overflow": null,
       "overflow_x": null,
       "overflow_y": null,
       "padding": null,
       "right": null,
       "top": null,
       "visibility": null,
       "width": null
      }
     },
     "feb3d2c33e4041e899f66d7f8ce40fe6": {
      "model_module": "@jupyter-widgets/controls",
      "model_module_version": "1.5.0",
      "model_name": "FloatProgressModel",
      "state": {
       "_dom_classes": [],
       "_model_module": "@jupyter-widgets/controls",
       "_model_module_version": "1.5.0",
       "_model_name": "FloatProgressModel",
       "_view_count": null,
       "_view_module": "@jupyter-widgets/controls",
       "_view_module_version": "1.5.0",
       "_view_name": "ProgressView",
       "bar_style": "success",
       "description": "",
       "description_tooltip": null,
       "layout": "IPY_MODEL_b6a6815369f148748fe0a385da7c56fd",
       "max": 542923308,
       "min": 0,
       "orientation": "horizontal",
       "style": "IPY_MODEL_4aff4d3188114dfaac8a4bc735cb2e17",
       "value": 542923308
      }
     }
    },
    "version_major": 2,
    "version_minor": 0
   }
  }
 },
 "nbformat": 4,
 "nbformat_minor": 5
}
