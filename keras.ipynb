{
 "cells": [
  {
   "cell_type": "code",
   "execution_count": 1,
   "id": "8b65b2f1",
   "metadata": {
    "_cell_guid": "b1076dfc-b9ad-4769-8c92-a6c4dae69d19",
    "_uuid": "8f2839f25d086af736a60e9eeb907d3b93b6e0e5",
    "execution": {
     "iopub.execute_input": "2024-01-26T01:59:34.165446Z",
     "iopub.status.busy": "2024-01-26T01:59:34.164666Z",
     "iopub.status.idle": "2024-01-26T01:59:34.849588Z",
     "shell.execute_reply": "2024-01-26T01:59:34.848782Z"
    },
    "papermill": {
     "duration": 0.695648,
     "end_time": "2024-01-26T01:59:34.851967",
     "exception": false,
     "start_time": "2024-01-26T01:59:34.156319",
     "status": "completed"
    },
    "tags": []
   },
   "outputs": [],
   "source": [
    "import pandas as pd\n",
    "import numpy as np"
   ]
  },
  {
   "cell_type": "code",
   "execution_count": 2,
   "id": "b2f6b378",
   "metadata": {
    "execution": {
     "iopub.execute_input": "2024-01-26T01:59:34.866633Z",
     "iopub.status.busy": "2024-01-26T01:59:34.866210Z",
     "iopub.status.idle": "2024-01-26T01:59:35.354454Z",
     "shell.execute_reply": "2024-01-26T01:59:35.353490Z"
    },
    "papermill": {
     "duration": 0.497863,
     "end_time": "2024-01-26T01:59:35.356627",
     "exception": false,
     "start_time": "2024-01-26T01:59:34.858764",
     "status": "completed"
    },
    "tags": []
   },
   "outputs": [
    {
     "data": {
      "text/html": [
       "<div>\n",
       "<style scoped>\n",
       "    .dataframe tbody tr th:only-of-type {\n",
       "        vertical-align: middle;\n",
       "    }\n",
       "\n",
       "    .dataframe tbody tr th {\n",
       "        vertical-align: top;\n",
       "    }\n",
       "\n",
       "    .dataframe thead th {\n",
       "        text-align: right;\n",
       "    }\n",
       "</style>\n",
       "<table border=\"1\" class=\"dataframe\">\n",
       "  <thead>\n",
       "    <tr style=\"text-align: right;\">\n",
       "      <th></th>\n",
       "      <th>text</th>\n",
       "      <th>label</th>\n",
       "    </tr>\n",
       "  </thead>\n",
       "  <tbody>\n",
       "    <tr>\n",
       "      <th>0</th>\n",
       "      <td>quán đồ_ăn ngon phục_vụ tốt lo sửa_soạn để_ý k...</td>\n",
       "      <td>0</td>\n",
       "    </tr>\n",
       "    <tr>\n",
       "      <th>1</th>\n",
       "      <td>hôm_nay đi tại quán món ngon vừa_miệng không_g...</td>\n",
       "      <td>0</td>\n",
       "    </tr>\n",
       "    <tr>\n",
       "      <th>2</th>\n",
       "      <td>́ n cư ̣ chị ngon tuâ ̀ n na ̀ o mi ̀ nh cu ̃ ...</td>\n",
       "      <td>0</td>\n",
       "    </tr>\n",
       "    <tr>\n",
       "      <th>3</th>\n",
       "      <td>chán đồ uống nhạt không_gian chất_lượng thì kh...</td>\n",
       "      <td>0</td>\n",
       "    </tr>\n",
       "    <tr>\n",
       "      <th>4</th>\n",
       "      <td>mì ok       nguội view rộng kêu món đợi hơi  b...</td>\n",
       "      <td>0</td>\n",
       "    </tr>\n",
       "  </tbody>\n",
       "</table>\n",
       "</div>"
      ],
      "text/plain": [
       "                                                text  label\n",
       "0  quán đồ_ăn ngon phục_vụ tốt lo sửa_soạn để_ý k...      0\n",
       "1  hôm_nay đi tại quán món ngon vừa_miệng không_g...      0\n",
       "2  ́ n cư ̣ chị ngon tuâ ̀ n na ̀ o mi ̀ nh cu ̃ ...      0\n",
       "3  chán đồ uống nhạt không_gian chất_lượng thì kh...      0\n",
       "4  mì ok       nguội view rộng kêu món đợi hơi  b...      0"
      ]
     },
     "execution_count": 2,
     "metadata": {},
     "output_type": "execute_result"
    }
   ],
   "source": [
    "df = pd.read_csv('/kaggle/input/sentments/train_cleaning.csv')\n",
    "df.head()"
   ]
  },
  {
   "cell_type": "code",
   "execution_count": 3,
   "id": "e1990c50",
   "metadata": {
    "execution": {
     "iopub.execute_input": "2024-01-26T01:59:35.371595Z",
     "iopub.status.busy": "2024-01-26T01:59:35.371322Z",
     "iopub.status.idle": "2024-01-26T01:59:36.235153Z",
     "shell.execute_reply": "2024-01-26T01:59:36.234219Z"
    },
    "papermill": {
     "duration": 0.874227,
     "end_time": "2024-01-26T01:59:36.237861",
     "exception": false,
     "start_time": "2024-01-26T01:59:35.363634",
     "status": "completed"
    },
    "tags": []
   },
   "outputs": [
    {
     "name": "stderr",
     "output_type": "stream",
     "text": [
      "/opt/conda/lib/python3.10/site-packages/scipy/__init__.py:146: UserWarning: A NumPy version >=1.16.5 and <1.23.0 is required for this version of SciPy (detected version 1.24.3\n",
      "  warnings.warn(f\"A NumPy version >={np_minversion} and <{np_maxversion}\"\n"
     ]
    }
   ],
   "source": [
    "from sklearn.model_selection import train_test_split"
   ]
  },
  {
   "cell_type": "code",
   "execution_count": 4,
   "id": "a5c7a3b6",
   "metadata": {
    "execution": {
     "iopub.execute_input": "2024-01-26T01:59:36.254190Z",
     "iopub.status.busy": "2024-01-26T01:59:36.253840Z",
     "iopub.status.idle": "2024-01-26T01:59:36.266505Z",
     "shell.execute_reply": "2024-01-26T01:59:36.265750Z"
    },
    "papermill": {
     "duration": 0.022144,
     "end_time": "2024-01-26T01:59:36.268345",
     "exception": false,
     "start_time": "2024-01-26T01:59:36.246201",
     "status": "completed"
    },
    "tags": []
   },
   "outputs": [],
   "source": [
    "X = df['text']\n",
    "y = df['label']\n",
    "X_train, X_test , y_train, y_test = train_test_split(X, y, test_size = 0.3, random_state = 42)"
   ]
  },
  {
   "cell_type": "code",
   "execution_count": 5,
   "id": "5525ee27",
   "metadata": {
    "execution": {
     "iopub.execute_input": "2024-01-26T01:59:36.282889Z",
     "iopub.status.busy": "2024-01-26T01:59:36.282590Z",
     "iopub.status.idle": "2024-01-26T01:59:36.287700Z",
     "shell.execute_reply": "2024-01-26T01:59:36.286894Z"
    },
    "papermill": {
     "duration": 0.014891,
     "end_time": "2024-01-26T01:59:36.289818",
     "exception": false,
     "start_time": "2024-01-26T01:59:36.274927",
     "status": "completed"
    },
    "tags": []
   },
   "outputs": [
    {
     "name": "stdout",
     "output_type": "stream",
     "text": [
      "(21000,)\n",
      "(9000,)\n",
      "(21000,)\n",
      "(9000,)\n"
     ]
    }
   ],
   "source": [
    "print(X_train.shape)\n",
    "print(X_test.shape)\n",
    "print(y_train.shape)\n",
    "print(y_test.shape)"
   ]
  },
  {
   "cell_type": "code",
   "execution_count": 6,
   "id": "c13a11d9",
   "metadata": {
    "execution": {
     "iopub.execute_input": "2024-01-26T01:59:36.304278Z",
     "iopub.status.busy": "2024-01-26T01:59:36.303978Z",
     "iopub.status.idle": "2024-01-26T02:00:11.475245Z",
     "shell.execute_reply": "2024-01-26T02:00:11.474188Z"
    },
    "papermill": {
     "duration": 35.181221,
     "end_time": "2024-01-26T02:00:11.477782",
     "exception": false,
     "start_time": "2024-01-26T01:59:36.296561",
     "status": "completed"
    },
    "tags": []
   },
   "outputs": [
    {
     "name": "stdout",
     "output_type": "stream",
     "text": [
      "657/657 [==============================] - 1s 1ms/step\n"
     ]
    }
   ],
   "source": [
    "import numpy as np\n",
    "from tensorflow.keras.layers import Embedding, Flatten, Input\n",
    "from tensorflow.keras.models import Model\n",
    "from tensorflow.keras.preprocessing.sequence import pad_sequences\n",
    "from tensorflow.keras.optimizers import Adam\n",
    "import tensorflow as tf\n",
    "\n",
    "vocab_size = 5000\n",
    "sequence_length = 100\n",
    "\n",
    "# Assuming X_train is a list of text samples\n",
    "vectorize = tf.keras.layers.TextVectorization(\n",
    "    max_tokens=vocab_size,\n",
    "    output_mode='int',\n",
    "    output_sequence_length=sequence_length\n",
    ")\n",
    "\n",
    "# Adapt the vectorization layer on your training data\n",
    "vectorize.adapt(X_train.tolist())\n",
    "\n",
    "# Convert the text data to sequences\n",
    "X_train_keras = np.array(vectorize(X_train.tolist()))\n",
    "X_test_keras = np.array(vectorize(X_test.tolist()))\n",
    "\n",
    "# Pad the sequences to a fixed length (maxlen)\n",
    "maxlen = 128  # replace with the actual value\n",
    "X_train_keras_padded = pad_sequences(X_train_keras, maxlen=maxlen, padding='post')\n",
    "X_test_keras_padded = pad_sequences(X_test_keras, maxlen=maxlen, padding='post')\n",
    "# Define the word embedding model\n",
    "word_input = Input(shape=(maxlen,), dtype='float64')\n",
    "word_embedding = Embedding(input_dim=vocab_size, output_dim=8, input_length=maxlen)(word_input)\n",
    "word_vec = Flatten()(word_embedding)\n",
    "\n",
    "# Create the embedding model\n",
    "embed_model = Model(inputs=word_input, outputs=word_vec)\n",
    "embed_model.compile(optimizer=Adam(lr=1e-3), loss='binary_crossentropy', metrics=['acc'])\n",
    "\n",
    "# Predict with the embedding model\n",
    "embeddings = embed_model.predict(X_train_keras_padded)\n",
    "\n",
    "np.savetxt('KerasWordEmbedding.txt', embeddings)"
   ]
  },
  {
   "cell_type": "code",
   "execution_count": 7,
   "id": "1774dd9e",
   "metadata": {
    "execution": {
     "iopub.execute_input": "2024-01-26T02:00:11.496551Z",
     "iopub.status.busy": "2024-01-26T02:00:11.496239Z",
     "iopub.status.idle": "2024-01-26T02:00:11.500563Z",
     "shell.execute_reply": "2024-01-26T02:00:11.499627Z"
    },
    "papermill": {
     "duration": 0.015436,
     "end_time": "2024-01-26T02:00:11.502443",
     "exception": false,
     "start_time": "2024-01-26T02:00:11.487007",
     "status": "completed"
    },
    "tags": []
   },
   "outputs": [],
   "source": [
    "# import fasttext"
   ]
  },
  {
   "cell_type": "code",
   "execution_count": 8,
   "id": "a3cb7831",
   "metadata": {
    "execution": {
     "iopub.execute_input": "2024-01-26T02:00:11.519631Z",
     "iopub.status.busy": "2024-01-26T02:00:11.519345Z",
     "iopub.status.idle": "2024-01-26T02:00:11.523061Z",
     "shell.execute_reply": "2024-01-26T02:00:11.522299Z"
    },
    "papermill": {
     "duration": 0.014307,
     "end_time": "2024-01-26T02:00:11.524888",
     "exception": false,
     "start_time": "2024-01-26T02:00:11.510581",
     "status": "completed"
    },
    "tags": []
   },
   "outputs": [],
   "source": [
    "# ft = fasttext.load_model('/kaggle/input/fasttext-vi/cc.vi.300.bin')"
   ]
  },
  {
   "cell_type": "code",
   "execution_count": 9,
   "id": "3a8f8fb8",
   "metadata": {
    "execution": {
     "iopub.execute_input": "2024-01-26T02:00:11.541731Z",
     "iopub.status.busy": "2024-01-26T02:00:11.541440Z",
     "iopub.status.idle": "2024-01-26T02:00:11.545288Z",
     "shell.execute_reply": "2024-01-26T02:00:11.544421Z"
    },
    "papermill": {
     "duration": 0.014622,
     "end_time": "2024-01-26T02:00:11.547380",
     "exception": false,
     "start_time": "2024-01-26T02:00:11.532758",
     "status": "completed"
    },
    "tags": []
   },
   "outputs": [],
   "source": [
    "# X_train_fasttext = [ft.get_sentence_vector(doc) for doc in X_train]\n",
    "# np.savetxt('FastTextWordEmbedding.txt', X_train_fasttext)"
   ]
  },
  {
   "cell_type": "code",
   "execution_count": 10,
   "id": "1721ae89",
   "metadata": {
    "execution": {
     "iopub.execute_input": "2024-01-26T02:00:11.564594Z",
     "iopub.status.busy": "2024-01-26T02:00:11.564325Z",
     "iopub.status.idle": "2024-01-26T02:00:11.569032Z",
     "shell.execute_reply": "2024-01-26T02:00:11.567931Z"
    },
    "papermill": {
     "duration": 0.015891,
     "end_time": "2024-01-26T02:00:11.571193",
     "exception": false,
     "start_time": "2024-01-26T02:00:11.555302",
     "status": "completed"
    },
    "tags": []
   },
   "outputs": [],
   "source": [
    "# from transformers import AutoTokenizer, AutoModel\n",
    "\n",
    "# tokenizer = AutoTokenizer.from_pretrained(\"vinai/phobert-base\")\n",
    "# model = AutoModel.from_pretrained(\"vinai/phobert-base\")\n",
    "\n",
    "# max_sequence_length = 256\n",
    "\n",
    "# X_train_phobert = []\n",
    "# for doc in X_train:\n",
    "#     inputs = tokenizer(doc, return_tensors=\"pt\", truncation=True, padding=True, max_length=max_sequence_length)\n",
    "\n",
    "#     outputs = model(**inputs)\n",
    "\n",
    "#     embeddings = outputs.last_hidden_state.mean(dim=1).squeeze().detach().numpy()\n",
    "\n",
    "#     X_train_phobert.append(embeddings)\n",
    "\n",
    "# X_train_phobert = np.array(X_train_phobert)\n",
    "\n"
   ]
  },
  {
   "cell_type": "code",
   "execution_count": 11,
   "id": "e1b60113",
   "metadata": {
    "execution": {
     "iopub.execute_input": "2024-01-26T02:00:11.591716Z",
     "iopub.status.busy": "2024-01-26T02:00:11.591411Z",
     "iopub.status.idle": "2024-01-26T02:00:11.595151Z",
     "shell.execute_reply": "2024-01-26T02:00:11.594322Z"
    },
    "papermill": {
     "duration": 0.014683,
     "end_time": "2024-01-26T02:00:11.597036",
     "exception": false,
     "start_time": "2024-01-26T02:00:11.582353",
     "status": "completed"
    },
    "tags": []
   },
   "outputs": [],
   "source": [
    "# np.savetxt('PhoBertEmbedding.txt', X_train_phobert)"
   ]
  },
  {
   "cell_type": "code",
   "execution_count": 12,
   "id": "59c8ced9",
   "metadata": {
    "execution": {
     "iopub.execute_input": "2024-01-26T02:00:11.614414Z",
     "iopub.status.busy": "2024-01-26T02:00:11.614163Z",
     "iopub.status.idle": "2024-01-26T02:00:11.617785Z",
     "shell.execute_reply": "2024-01-26T02:00:11.616929Z"
    },
    "papermill": {
     "duration": 0.014534,
     "end_time": "2024-01-26T02:00:11.619705",
     "exception": false,
     "start_time": "2024-01-26T02:00:11.605171",
     "status": "completed"
    },
    "tags": []
   },
   "outputs": [],
   "source": [
    "# X_train_select = X_train_fasttext\n",
    "# X_test_fasttext = [ft.get_sentence_vector(doc) for doc in X_test]"
   ]
  },
  {
   "cell_type": "code",
   "execution_count": 13,
   "id": "9a134fe0",
   "metadata": {
    "execution": {
     "iopub.execute_input": "2024-01-26T02:00:11.637223Z",
     "iopub.status.busy": "2024-01-26T02:00:11.636906Z",
     "iopub.status.idle": "2024-01-26T02:00:11.723241Z",
     "shell.execute_reply": "2024-01-26T02:00:11.721937Z"
    },
    "papermill": {
     "duration": 0.098182,
     "end_time": "2024-01-26T02:00:11.726113",
     "exception": false,
     "start_time": "2024-01-26T02:00:11.627931",
     "status": "completed"
    },
    "tags": []
   },
   "outputs": [],
   "source": [
    "from sklearn.svm import SVC\n",
    "from sklearn.metrics import accuracy_score, confusion_matrix, f1_score"
   ]
  },
  {
   "cell_type": "code",
   "execution_count": 14,
   "id": "4e108c7c",
   "metadata": {
    "execution": {
     "iopub.execute_input": "2024-01-26T02:00:11.743884Z",
     "iopub.status.busy": "2024-01-26T02:00:11.743274Z",
     "iopub.status.idle": "2024-01-26T02:00:11.747330Z",
     "shell.execute_reply": "2024-01-26T02:00:11.746406Z"
    },
    "papermill": {
     "duration": 0.014971,
     "end_time": "2024-01-26T02:00:11.749322",
     "exception": false,
     "start_time": "2024-01-26T02:00:11.734351",
     "status": "completed"
    },
    "tags": []
   },
   "outputs": [],
   "source": [
    "# X_train_select = [i.tolist() for i in X_train_select]"
   ]
  },
  {
   "cell_type": "code",
   "execution_count": 15,
   "id": "0c4fe339",
   "metadata": {
    "execution": {
     "iopub.execute_input": "2024-01-26T02:00:11.766480Z",
     "iopub.status.busy": "2024-01-26T02:00:11.766176Z",
     "iopub.status.idle": "2024-01-26T02:00:11.769864Z",
     "shell.execute_reply": "2024-01-26T02:00:11.769016Z"
    },
    "papermill": {
     "duration": 0.014421,
     "end_time": "2024-01-26T02:00:11.771710",
     "exception": false,
     "start_time": "2024-01-26T02:00:11.757289",
     "status": "completed"
    },
    "tags": []
   },
   "outputs": [],
   "source": [
    "# svm_model = SVC()\n",
    "# svm_model.fit(X_train_select, y_train)"
   ]
  },
  {
   "cell_type": "code",
   "execution_count": 16,
   "id": "808b2653",
   "metadata": {
    "execution": {
     "iopub.execute_input": "2024-01-26T02:00:11.789366Z",
     "iopub.status.busy": "2024-01-26T02:00:11.789062Z",
     "iopub.status.idle": "2024-01-26T02:00:11.793085Z",
     "shell.execute_reply": "2024-01-26T02:00:11.792178Z"
    },
    "papermill": {
     "duration": 0.015198,
     "end_time": "2024-01-26T02:00:11.795069",
     "exception": false,
     "start_time": "2024-01-26T02:00:11.779871",
     "status": "completed"
    },
    "tags": []
   },
   "outputs": [],
   "source": [
    "# y_pred = svm_model.predict(X_test_fasttext)\n",
    "\n",
    "# accuracy = accuracy_score(y_test, y_pred)\n",
    "# conf_matrix = confusion_matrix(y_test, y_pred)\n",
    "# f1 = f1_score(y_test, y_pred)"
   ]
  },
  {
   "cell_type": "code",
   "execution_count": 17,
   "id": "3b87a30d",
   "metadata": {
    "execution": {
     "iopub.execute_input": "2024-01-26T02:00:11.813278Z",
     "iopub.status.busy": "2024-01-26T02:00:11.812868Z",
     "iopub.status.idle": "2024-01-26T02:00:11.817145Z",
     "shell.execute_reply": "2024-01-26T02:00:11.816185Z"
    },
    "papermill": {
     "duration": 0.015444,
     "end_time": "2024-01-26T02:00:11.819069",
     "exception": false,
     "start_time": "2024-01-26T02:00:11.803625",
     "status": "completed"
    },
    "tags": []
   },
   "outputs": [],
   "source": [
    "# evaluation_results = f\"Accuracy: {accuracy}\\nConfusion Matrix:\\n{conf_matrix}\\nF1 Score: {f1}\\n\"\n",
    "# with open(\"evaluation_results.txt\", \"w\") as eval_file:\n",
    "#     eval_file.write(evaluation_results)"
   ]
  },
  {
   "cell_type": "code",
   "execution_count": 18,
   "id": "9c24d942",
   "metadata": {
    "execution": {
     "iopub.execute_input": "2024-01-26T02:00:11.836642Z",
     "iopub.status.busy": "2024-01-26T02:00:11.836366Z",
     "iopub.status.idle": "2024-01-26T02:00:11.840328Z",
     "shell.execute_reply": "2024-01-26T02:00:11.839435Z"
    },
    "papermill": {
     "duration": 0.015213,
     "end_time": "2024-01-26T02:00:11.842332",
     "exception": false,
     "start_time": "2024-01-26T02:00:11.827119",
     "status": "completed"
    },
    "tags": []
   },
   "outputs": [],
   "source": [
    "# import joblib\n",
    "# joblib.dump(svm_model, \"svm_model.joblib\")"
   ]
  },
  {
   "cell_type": "code",
   "execution_count": 19,
   "id": "baa30fbf",
   "metadata": {
    "execution": {
     "iopub.execute_input": "2024-01-26T02:00:11.859810Z",
     "iopub.status.busy": "2024-01-26T02:00:11.859535Z",
     "iopub.status.idle": "2024-01-26T02:00:11.863691Z",
     "shell.execute_reply": "2024-01-26T02:00:11.862735Z"
    },
    "papermill": {
     "duration": 0.015254,
     "end_time": "2024-01-26T02:00:11.865798",
     "exception": false,
     "start_time": "2024-01-26T02:00:11.850544",
     "status": "completed"
    },
    "tags": []
   },
   "outputs": [],
   "source": [
    "# loaded_model = joblib.load('/kaggle/working/svm_model.joblib')\n",
    "# user_input_embedding = 'dịch vụ này rất tốt'\n",
    "# prediction = loaded_model.predict(ft.get_sentence_vector(user_input_embedding).reshape(1, -1))\n",
    "\n",
    "# print(f\"Dự đoán ý kiến: {prediction[0]}\")"
   ]
  },
  {
   "cell_type": "code",
   "execution_count": 20,
   "id": "f0a6fba2",
   "metadata": {
    "execution": {
     "iopub.execute_input": "2024-01-26T02:00:11.884056Z",
     "iopub.status.busy": "2024-01-26T02:00:11.883746Z",
     "iopub.status.idle": "2024-01-26T02:00:11.888410Z",
     "shell.execute_reply": "2024-01-26T02:00:11.887527Z"
    },
    "papermill": {
     "duration": 0.016241,
     "end_time": "2024-01-26T02:00:11.890497",
     "exception": false,
     "start_time": "2024-01-26T02:00:11.874256",
     "status": "completed"
    },
    "tags": []
   },
   "outputs": [],
   "source": [
    "# X_test_phobert = []\n",
    "# for doc in X_test:\n",
    "#     inputs = tokenizer(doc, return_tensors=\"pt\", truncation=True, padding=True, max_length=max_sequence_length)\n",
    "\n",
    "#     outputs = model(**inputs)\n",
    "\n",
    "#     embeddings = outputs.last_hidden_state.mean(dim=1).squeeze().detach().numpy()\n",
    "\n",
    "#     X_test_phobert.append(embeddings)\n",
    "\n",
    "# X_test_phobert = np.array(X_test_phobert)\n",
    "\n",
    "# X_train_select = X_train_phobert\n",
    "# X_train_select = [i.tolist() for i in X_train_select]\n",
    "# svm_model = SVC()\n",
    "# svm_model.fit(X_train_select, y_train)\n",
    "\n",
    "# y_pred = svm_model.predict(X_test_phobert)\n",
    "\n",
    "# accuracy = accuracy_score(y_test, y_pred)\n",
    "# conf_matrix = confusion_matrix(y_test, y_pred)\n",
    "# f1 = f1_score(y_test, y_pred)\n",
    "\n",
    "# print(accuracy)\n",
    "# print(conf_matrix)\n",
    "# print(f1)"
   ]
  },
  {
   "cell_type": "code",
   "execution_count": 21,
   "id": "7c299fef",
   "metadata": {
    "execution": {
     "iopub.execute_input": "2024-01-26T02:00:11.908761Z",
     "iopub.status.busy": "2024-01-26T02:00:11.908512Z",
     "iopub.status.idle": "2024-01-26T02:08:38.193641Z",
     "shell.execute_reply": "2024-01-26T02:08:38.192578Z"
    },
    "papermill": {
     "duration": 506.304702,
     "end_time": "2024-01-26T02:08:38.203841",
     "exception": false,
     "start_time": "2024-01-26T02:00:11.899139",
     "status": "completed"
    },
    "tags": []
   },
   "outputs": [
    {
     "name": "stdout",
     "output_type": "stream",
     "text": [
      "282/282 [==============================] - 0s 1ms/step\n",
      "0.5864444444444444\n",
      "[[2535 2023]\n",
      " [1699 2743]]\n",
      "0.5957862728062554\n"
     ]
    }
   ],
   "source": [
    "X_train_select = embeddings\n",
    "X_train_select = [i.tolist() for i in X_train_select]\n",
    "svm_model = SVC()\n",
    "svm_model.fit(X_train_select, y_train)\n",
    "X_test = embed_model.predict(X_test_keras_padded)\n",
    "y_pred = svm_model.predict(X_test)\n",
    "\n",
    "accuracy = accuracy_score(y_test, y_pred)\n",
    "conf_matrix = confusion_matrix(y_test, y_pred)\n",
    "f1 = f1_score(y_test, y_pred)\n",
    "\n",
    "print(accuracy)\n",
    "print(conf_matrix)\n",
    "print(f1)"
   ]
  },
  {
   "cell_type": "code",
   "execution_count": null,
   "id": "83dd41a9",
   "metadata": {
    "papermill": {
     "duration": 0.008489,
     "end_time": "2024-01-26T02:08:38.221138",
     "exception": false,
     "start_time": "2024-01-26T02:08:38.212649",
     "status": "completed"
    },
    "tags": []
   },
   "outputs": [],
   "source": []
  }
 ],
 "metadata": {
  "kaggle": {
   "accelerator": "gpu",
   "dataSources": [
    {
     "datasetId": 798371,
     "sourceId": 1373314,
     "sourceType": "datasetVersion"
    },
    {
     "datasetId": 3996665,
     "sourceId": 6957899,
     "sourceType": "datasetVersion"
    },
    {
     "datasetId": 4284103,
     "sourceId": 7373232,
     "sourceType": "datasetVersion"
    }
   ],
   "dockerImageVersionId": 30635,
   "isGpuEnabled": true,
   "isInternetEnabled": true,
   "language": "python",
   "sourceType": "notebook"
  },
  "kernelspec": {
   "display_name": "Python 3",
   "language": "python",
   "name": "python3"
  },
  "language_info": {
   "codemirror_mode": {
    "name": "ipython",
    "version": 3
   },
   "file_extension": ".py",
   "mimetype": "text/x-python",
   "name": "python",
   "nbconvert_exporter": "python",
   "pygments_lexer": "ipython3",
   "version": "3.10.12"
  },
  "papermill": {
   "default_parameters": {},
   "duration": 550.779749,
   "end_time": "2024-01-26T02:08:41.484751",
   "environment_variables": {},
   "exception": null,
   "input_path": "__notebook__.ipynb",
   "output_path": "__notebook__.ipynb",
   "parameters": {},
   "start_time": "2024-01-26T01:59:30.705002",
   "version": "2.4.0"
  }
 },
 "nbformat": 4,
 "nbformat_minor": 5
}
